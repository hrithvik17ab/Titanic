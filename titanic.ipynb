{
 "cells": [
  {
   "cell_type": "code",
   "execution_count": 49,
   "id": "smart-sweet",
   "metadata": {
    "_cell_guid": "b1076dfc-b9ad-4769-8c92-a6c4dae69d19",
    "_uuid": "8f2839f25d086af736a60e9eeb907d3b93b6e0e5",
    "execution": {
     "iopub.execute_input": "2021-05-18T17:53:53.764061Z",
     "iopub.status.busy": "2021-05-18T17:53:53.762901Z",
     "iopub.status.idle": "2021-05-18T17:53:54.546540Z",
     "shell.execute_reply": "2021-05-18T17:53:54.547186Z"
    },
    "papermill": {
     "duration": 0.847105,
     "end_time": "2021-05-18T17:53:54.547551",
     "exception": false,
     "start_time": "2021-05-18T17:53:53.700446",
     "status": "completed"
    },
    "tags": []
   },
   "outputs": [],
   "source": [
    "import numpy as np # linear algebra\n",
    "import pandas as pd # data processing, CSV file I/O (e.g. pd.read_csv)\n",
    "import matplotlib.pyplot as plt\n",
    "import seaborn as sns\n",
    "\n",
    "import warnings\n",
    "warnings.filterwarnings('ignore')"
   ]
  },
  {
   "cell_type": "markdown",
   "metadata": {},
   "source": [
    "Survival : 0 = No, 1 = Yes\n",
    "\n",
    "pclass(Ticket Class) : 1 = 1st, 2 = 2nd, 3 = 3rd\n",
    "\n",
    "Sex(Gender) : Male, Female\n",
    "\n",
    "Age : Age in years\n",
    "\n",
    "SibSp : Number of siblings/spouses abroad the titanic\n",
    "\n",
    "Parch : Number of parents/children abrod the titanic\n",
    "\n",
    "Ticket : Ticket Number\n",
    "\n",
    "Fare : Passenger fare\n",
    "\n",
    "Cabin : Cabin Number\n",
    "\n",
    "Embarked : Port of Embarkation, C = Cherbourg, Q = Queenstown, S = Southampton\n"
   ]
  },
  {
   "cell_type": "code",
   "execution_count": 50,
   "id": "answering-fetish",
   "metadata": {
    "execution": {
     "iopub.execute_input": "2021-05-18T17:53:54.672373Z",
     "iopub.status.busy": "2021-05-18T17:53:54.671658Z",
     "iopub.status.idle": "2021-05-18T17:53:54.702436Z",
     "shell.execute_reply": "2021-05-18T17:53:54.703001Z"
    },
    "papermill": {
     "duration": 0.09167,
     "end_time": "2021-05-18T17:53:54.703202",
     "exception": false,
     "start_time": "2021-05-18T17:53:54.611532",
     "status": "completed"
    },
    "tags": []
   },
   "outputs": [],
   "source": [
    "test = pd.read_csv('test.csv')\n",
    "train = pd.read_csv('train.csv')"
   ]
  },
  {
   "cell_type": "code",
   "execution_count": 51,
   "id": "eight-screening",
   "metadata": {
    "execution": {
     "iopub.execute_input": "2021-05-18T17:53:54.824612Z",
     "iopub.status.busy": "2021-05-18T17:53:54.823640Z",
     "iopub.status.idle": "2021-05-18T17:53:54.839064Z",
     "shell.execute_reply": "2021-05-18T17:53:54.839508Z"
    },
    "papermill": {
     "duration": 0.078721,
     "end_time": "2021-05-18T17:53:54.839668",
     "exception": false,
     "start_time": "2021-05-18T17:53:54.760947",
     "status": "completed"
    },
    "tags": []
   },
   "outputs": [
    {
     "data": {
      "text/plain": [
       "PassengerId      0\n",
       "Survived         0\n",
       "Pclass           0\n",
       "Name             0\n",
       "Sex              0\n",
       "Age            177\n",
       "SibSp            0\n",
       "Parch            0\n",
       "Ticket           0\n",
       "Fare             0\n",
       "Cabin          687\n",
       "Embarked         2\n",
       "dtype: int64"
      ]
     },
     "execution_count": 51,
     "metadata": {},
     "output_type": "execute_result"
    }
   ],
   "source": [
    "train.isna().sum()"
   ]
  },
  {
   "cell_type": "code",
   "execution_count": 52,
   "id": "vietnamese-bachelor",
   "metadata": {
    "execution": {
     "iopub.execute_input": "2021-05-18T17:53:54.962685Z",
     "iopub.status.busy": "2021-05-18T17:53:54.962118Z",
     "iopub.status.idle": "2021-05-18T17:53:55.107232Z",
     "shell.execute_reply": "2021-05-18T17:53:55.107709Z"
    },
    "papermill": {
     "duration": 0.210142,
     "end_time": "2021-05-18T17:53:55.107920",
     "exception": false,
     "start_time": "2021-05-18T17:53:54.897778",
     "status": "completed"
    },
    "tags": []
   },
   "outputs": [
    {
     "data": {
      "image/png": "[encoded data removed]",
      "text/plain": [
       "<Figure size 360x360 with 1 Axes>"
      ]
     },
     "metadata": {
      "needs_background": "light"
     },
     "output_type": "display_data"
    }
   ],
   "source": [
    "plt.figure(figsize = (5, 5))\n",
    "\n",
    "sns.countplot('Survived', data = train)\n",
    "plt.show()"
   ]
  },
  {
   "cell_type": "code",
   "execution_count": 53,
   "id": "derived-picnic",
   "metadata": {
    "execution": {
     "iopub.execute_input": "2021-05-18T17:53:55.228936Z",
     "iopub.status.busy": "2021-05-18T17:53:55.228348Z",
     "iopub.status.idle": "2021-05-18T17:53:55.236578Z",
     "shell.execute_reply": "2021-05-18T17:53:55.237119Z"
    },
    "papermill": {
     "duration": 0.070629,
     "end_time": "2021-05-18T17:53:55.237280",
     "exception": false,
     "start_time": "2021-05-18T17:53:55.166651",
     "status": "completed"
    },
    "tags": []
   },
   "outputs": [
    {
     "data": {
      "text/plain": [
       "0    549\n",
       "1    342\n",
       "Name: Survived, dtype: int64"
      ]
     },
     "execution_count": 53,
     "metadata": {},
     "output_type": "execute_result"
    }
   ],
   "source": [
    "value = train.Survived.value_counts() #count of people survived\n",
    "labels = ['Not Survived','Survived']\n",
    "value"
   ]
  },
  {
   "cell_type": "markdown",
   "id": "original-fever",
   "metadata": {
    "papermill": {
     "duration": 0.059348,
     "end_time": "2021-05-18T17:53:55.357597",
     "exception": false,
     "start_time": "2021-05-18T17:53:55.298249",
     "status": "completed"
    },
    "tags": []
   },
   "source": [
    "**Passenger Ticket Class**"
   ]
  },
  {
   "cell_type": "code",
   "execution_count": 54,
   "id": "killing-humidity",
   "metadata": {
    "execution": {
     "iopub.execute_input": "2021-05-18T17:53:55.479912Z",
     "iopub.status.busy": "2021-05-18T17:53:55.479292Z",
     "iopub.status.idle": "2021-05-18T17:53:55.485223Z",
     "shell.execute_reply": "2021-05-18T17:53:55.485752Z"
    },
    "papermill": {
     "duration": 0.068743,
     "end_time": "2021-05-18T17:53:55.485971",
     "exception": false,
     "start_time": "2021-05-18T17:53:55.417228",
     "status": "completed"
    },
    "tags": []
   },
   "outputs": [
    {
     "data": {
      "text/plain": [
       "3    491\n",
       "1    216\n",
       "2    184\n",
       "Name: Pclass, dtype: int64"
      ]
     },
     "execution_count": 54,
     "metadata": {},
     "output_type": "execute_result"
    }
   ],
   "source": [
    "train.Pclass.value_counts()"
   ]
  },
  {
   "cell_type": "code",
   "execution_count": 55,
   "id": "clear-oriental",
   "metadata": {
    "execution": {
     "iopub.execute_input": "2021-05-18T17:53:55.610043Z",
     "iopub.status.busy": "2021-05-18T17:53:55.609446Z",
     "iopub.status.idle": "2021-05-18T17:53:55.617774Z",
     "shell.execute_reply": "2021-05-18T17:53:55.618288Z"
    },
    "papermill": {
     "duration": 0.072736,
     "end_time": "2021-05-18T17:53:55.618446",
     "exception": false,
     "start_time": "2021-05-18T17:53:55.545710",
     "status": "completed"
    },
    "tags": []
   },
   "outputs": [
    {
     "data": {
      "text/plain": [
       "Pclass  Survived\n",
       "1       0            80\n",
       "        1           136\n",
       "2       0            97\n",
       "        1            87\n",
       "3       0           372\n",
       "        1           119\n",
       "Name: Survived, dtype: int64"
      ]
     },
     "execution_count": 55,
     "metadata": {},
     "output_type": "execute_result"
    }
   ],
   "source": [
    "train.groupby(['Pclass','Survived'])['Survived'].count()"
   ]
  },
  {
   "cell_type": "code",
   "execution_count": 56,
   "id": "reverse-announcement",
   "metadata": {
    "execution": {
     "iopub.execute_input": "2021-05-18T17:53:55.741433Z",
     "iopub.status.busy": "2021-05-18T17:53:55.740840Z",
     "iopub.status.idle": "2021-05-18T17:53:56.070280Z",
     "shell.execute_reply": "2021-05-18T17:53:56.070710Z"
    },
    "papermill": {
     "duration": 0.392248,
     "end_time": "2021-05-18T17:53:56.070921",
     "exception": false,
     "start_time": "2021-05-18T17:53:55.678673",
     "status": "completed"
    },
    "tags": []
   },
   "outputs": [
    {
     "data": {
      "image/png": "[encoded data removed]",
      "text/plain": [
       "<Figure size 576x288 with 1 Axes>"
      ]
     },
     "metadata": {
      "needs_background": "light"
     },
     "output_type": "display_data"
    }
   ],
   "source": [
    "sns.catplot('Pclass', 'Survived', kind = 'point', data = train, height = 4, aspect = 2)\n",
    "plt.show()"
   ]
  },
  {
   "cell_type": "markdown",
   "id": "given-receiver",
   "metadata": {
    "papermill": {
     "duration": 0.059443,
     "end_time": "2021-05-18T17:53:56.190914",
     "exception": false,
     "start_time": "2021-05-18T17:53:56.131471",
     "status": "completed"
    },
    "tags": []
   },
   "source": [
    "**Name**"
   ]
  },
  {
   "cell_type": "code",
   "execution_count": 57,
   "id": "positive-township",
   "metadata": {
    "execution": {
     "iopub.execute_input": "2021-05-18T17:53:56.314055Z",
     "iopub.status.busy": "2021-05-18T17:53:56.313439Z",
     "iopub.status.idle": "2021-05-18T17:53:56.320826Z",
     "shell.execute_reply": "2021-05-18T17:53:56.321322Z"
    },
    "papermill": {
     "duration": 0.071087,
     "end_time": "2021-05-18T17:53:56.321477",
     "exception": false,
     "start_time": "2021-05-18T17:53:56.250390",
     "status": "completed"
    },
    "tags": []
   },
   "outputs": [
    {
     "data": {
      "text/plain": [
       "Coutts, Master. William Loch \"William\"          1\n",
       "de Messemaeker, Mrs. Guillaume Joseph (Emma)    1\n",
       "Gale, Mr. Shadrach                              1\n",
       "Olsvigen, Mr. Thor Anderson                     1\n",
       "Palsson, Miss. Torborg Danira                   1\n",
       "                                               ..\n",
       "Elias, Mr. Tannous                              1\n",
       "Hart, Mr. Benjamin                              1\n",
       "Charters, Mr. David                             1\n",
       "Graham, Miss. Margaret Edith                    1\n",
       "Lindqvist, Mr. Eino William                     1\n",
       "Name: Name, Length: 891, dtype: int64"
      ]
     },
     "execution_count": 57,
     "metadata": {},
     "output_type": "execute_result"
    }
   ],
   "source": [
    "train.Name.value_counts()"
   ]
  },
  {
   "cell_type": "code",
   "execution_count": 58,
   "id": "supposed-absorption",
   "metadata": {
    "execution": {
     "iopub.execute_input": "2021-05-18T17:53:56.448298Z",
     "iopub.status.busy": "2021-05-18T17:53:56.447628Z",
     "iopub.status.idle": "2021-05-18T17:53:56.452053Z",
     "shell.execute_reply": "2021-05-18T17:53:56.452557Z"
    },
    "papermill": {
     "duration": 0.069301,
     "end_time": "2021-05-18T17:53:56.452737",
     "exception": false,
     "start_time": "2021-05-18T17:53:56.383436",
     "status": "completed"
    },
    "tags": []
   },
   "outputs": [
    {
     "data": {
      "text/plain": [
       "(891, 12)"
      ]
     },
     "execution_count": 58,
     "metadata": {},
     "output_type": "execute_result"
    }
   ],
   "source": [
    "train.shape"
   ]
  },
  {
   "cell_type": "code",
   "execution_count": 59,
   "id": "fifty-hartford",
   "metadata": {
    "execution": {
     "iopub.execute_input": "2021-05-18T17:53:56.581313Z",
     "iopub.status.busy": "2021-05-18T17:53:56.580633Z",
     "iopub.status.idle": "2021-05-18T17:53:56.589205Z",
     "shell.execute_reply": "2021-05-18T17:53:56.588578Z"
    },
    "papermill": {
     "duration": 0.07382,
     "end_time": "2021-05-18T17:53:56.589342",
     "exception": false,
     "start_time": "2021-05-18T17:53:56.515522",
     "status": "completed"
    },
    "tags": []
   },
   "outputs": [
    {
     "data": {
      "text/plain": [
       "891"
      ]
     },
     "execution_count": 59,
     "metadata": {},
     "output_type": "execute_result"
    }
   ],
   "source": [
    "len(train.Name.unique())"
   ]
  },
  {
   "cell_type": "markdown",
   "id": "domestic-character",
   "metadata": {
    "papermill": {
     "duration": 0.067978,
     "end_time": "2021-05-18T17:53:56.749921",
     "exception": false,
     "start_time": "2021-05-18T17:53:56.681943",
     "status": "completed"
    },
    "tags": []
   },
   "source": [
    "**Sex**"
   ]
  },
  {
   "cell_type": "code",
   "execution_count": 60,
   "id": "crude-family",
   "metadata": {
    "execution": {
     "iopub.execute_input": "2021-05-18T17:53:56.883325Z",
     "iopub.status.busy": "2021-05-18T17:53:56.882491Z",
     "iopub.status.idle": "2021-05-18T17:53:56.886524Z",
     "shell.execute_reply": "2021-05-18T17:53:56.886017Z"
    },
    "papermill": {
     "duration": 0.074028,
     "end_time": "2021-05-18T17:53:56.886648",
     "exception": false,
     "start_time": "2021-05-18T17:53:56.812620",
     "status": "completed"
    },
    "tags": []
   },
   "outputs": [
    {
     "data": {
      "text/plain": [
       "male      577\n",
       "female    314\n",
       "Name: Sex, dtype: int64"
      ]
     },
     "execution_count": 60,
     "metadata": {},
     "output_type": "execute_result"
    }
   ],
   "source": [
    "train.Sex.value_counts()"
   ]
  },
  {
   "cell_type": "code",
   "execution_count": 61,
   "id": "every-bedroom",
   "metadata": {
    "execution": {
     "iopub.execute_input": "2021-05-18T17:53:57.016800Z",
     "iopub.status.busy": "2021-05-18T17:53:57.015835Z",
     "iopub.status.idle": "2021-05-18T17:53:57.024250Z",
     "shell.execute_reply": "2021-05-18T17:53:57.024692Z"
    },
    "papermill": {
     "duration": 0.07536,
     "end_time": "2021-05-18T17:53:57.024860",
     "exception": false,
     "start_time": "2021-05-18T17:53:56.949500",
     "status": "completed"
    },
    "tags": []
   },
   "outputs": [
    {
     "data": {
      "text/plain": [
       "Sex     Survived\n",
       "female  0            81\n",
       "        1           233\n",
       "male    0           468\n",
       "        1           109\n",
       "Name: Survived, dtype: int64"
      ]
     },
     "execution_count": 61,
     "metadata": {},
     "output_type": "execute_result"
    }
   ],
   "source": [
    "train.groupby(['Sex', 'Survived'])['Survived'].count()"
   ]
  },
  {
   "cell_type": "code",
   "execution_count": 62,
   "id": "military-equity",
   "metadata": {
    "execution": {
     "iopub.execute_input": "2021-05-18T17:53:57.156412Z",
     "iopub.status.busy": "2021-05-18T17:53:57.155471Z",
     "iopub.status.idle": "2021-05-18T17:53:57.454245Z",
     "shell.execute_reply": "2021-05-18T17:53:57.453664Z"
    },
    "papermill": {
     "duration": 0.365648,
     "end_time": "2021-05-18T17:53:57.454376",
     "exception": false,
     "start_time": "2021-05-18T17:53:57.088728",
     "status": "completed"
    },
    "tags": []
   },
   "outputs": [
    {
     "data": {
      "image/png": "[encoded data removed]",
      "text/plain": [
       "<Figure size 576x288 with 1 Axes>"
      ]
     },
     "metadata": {
      "needs_background": "light"
     },
     "output_type": "display_data"
    }
   ],
   "source": [
    "sns.catplot(x = 'Sex', y = 'Survived', data = train, kind = 'point', height = 4, aspect =2)\n",
    "plt.show()"
   ]
  },
  {
   "cell_type": "markdown",
   "id": "quiet-competition",
   "metadata": {
    "papermill": {
     "duration": 0.064349,
     "end_time": "2021-05-18T17:53:57.583943",
     "exception": false,
     "start_time": "2021-05-18T17:53:57.519594",
     "status": "completed"
    },
    "tags": []
   },
   "source": [
    "Sex with Pclass"
   ]
  },
  {
   "cell_type": "code",
   "execution_count": 63,
   "id": "insured-truck",
   "metadata": {
    "execution": {
     "iopub.execute_input": "2021-05-18T17:53:57.721350Z",
     "iopub.status.busy": "2021-05-18T17:53:57.720330Z",
     "iopub.status.idle": "2021-05-18T17:53:58.287651Z",
     "shell.execute_reply": "2021-05-18T17:53:58.287019Z"
    },
    "papermill": {
     "duration": 0.638208,
     "end_time": "2021-05-18T17:53:58.287789",
     "exception": false,
     "start_time": "2021-05-18T17:53:57.649581",
     "status": "completed"
    },
    "tags": []
   },
   "outputs": [
    {
     "data": {
      "image/png": "[encoded data removed]",
      "text/plain": [
       "<Figure size 648.85x288 with 1 Axes>"
      ]
     },
     "metadata": {
      "needs_background": "light"
     },
     "output_type": "display_data"
    }
   ],
   "source": [
    "sns.catplot(x = 'Pclass', y = 'Survived', kind = 'point', data = train, hue = 'Sex', height = 4, aspect = 2)\n",
    "plt.show()"
   ]
  },
  {
   "cell_type": "markdown",
   "id": "electric-billion",
   "metadata": {
    "papermill": {
     "duration": 0.065657,
     "end_time": "2021-05-18T17:53:58.423102",
     "exception": false,
     "start_time": "2021-05-18T17:53:58.357445",
     "status": "completed"
    },
    "tags": []
   },
   "source": [
    "**Age**"
   ]
  },
  {
   "cell_type": "code",
   "execution_count": 64,
   "id": "lesbian-sender",
   "metadata": {
    "execution": {
     "iopub.execute_input": "2021-05-18T17:53:58.562476Z",
     "iopub.status.busy": "2021-05-18T17:53:58.561265Z",
     "iopub.status.idle": "2021-05-18T17:53:58.803956Z",
     "shell.execute_reply": "2021-05-18T17:53:58.804398Z"
    },
    "papermill": {
     "duration": 0.315439,
     "end_time": "2021-05-18T17:53:58.804562",
     "exception": false,
     "start_time": "2021-05-18T17:53:58.489123",
     "status": "completed"
    },
    "tags": []
   },
   "outputs": [
    {
     "data": {
      "image/png": "[encoded data removed]",
      "text/plain": [
       "<Figure size 576x288 with 1 Axes>"
      ]
     },
     "metadata": {
      "needs_background": "light"
     },
     "output_type": "display_data"
    }
   ],
   "source": [
    "sns.catplot(x = 'Sex', y = 'Age', kind = 'box', data = train, height = 4, aspect = 2)\n",
    "plt.show()"
   ]
  },
  {
   "cell_type": "markdown",
   "id": "american-diameter",
   "metadata": {
    "papermill": {
     "duration": 0.067316,
     "end_time": "2021-05-18T17:53:58.939541",
     "exception": false,
     "start_time": "2021-05-18T17:53:58.872225",
     "status": "completed"
    },
    "tags": []
   },
   "source": [
    "Age with Pclass"
   ]
  },
  {
   "cell_type": "code",
   "execution_count": 65,
   "id": "sitting-recycling",
   "metadata": {
    "execution": {
     "iopub.execute_input": "2021-05-18T17:53:59.081811Z",
     "iopub.status.busy": "2021-05-18T17:53:59.081183Z",
     "iopub.status.idle": "2021-05-18T17:53:59.821069Z",
     "shell.execute_reply": "2021-05-18T17:53:59.821554Z"
    },
    "papermill": {
     "duration": 0.815447,
     "end_time": "2021-05-18T17:53:59.821719",
     "exception": false,
     "start_time": "2021-05-18T17:53:59.006272",
     "status": "completed"
    },
    "tags": []
   },
   "outputs": [
    {
     "data": {
      "image/png": "[encoded data removed]",
      "text/plain": [
       "<Figure size 864x288 with 3 Axes>"
      ]
     },
     "metadata": {
      "needs_background": "light"
     },
     "output_type": "display_data"
    }
   ],
   "source": [
    "sns.catplot(x = 'Sex', y = 'Age', kind = 'box', data = train, col = 'Pclass', height = 4)\n",
    "plt.show()"
   ]
  },
  {
   "cell_type": "markdown",
   "id": "architectural-singer",
   "metadata": {
    "papermill": {
     "duration": 0.067354,
     "end_time": "2021-05-18T17:53:59.957662",
     "exception": false,
     "start_time": "2021-05-18T17:53:59.890308",
     "status": "completed"
    },
    "tags": []
   },
   "source": [
    "**Fare**"
   ]
  },
  {
   "cell_type": "code",
   "execution_count": 66,
   "id": "uniform-tribune",
   "metadata": {
    "execution": {
     "iopub.execute_input": "2021-05-18T17:54:00.098550Z",
     "iopub.status.busy": "2021-05-18T17:54:00.097853Z",
     "iopub.status.idle": "2021-05-18T17:54:00.385081Z",
     "shell.execute_reply": "2021-05-18T17:54:00.385598Z"
    },
    "papermill": {
     "duration": 0.359283,
     "end_time": "2021-05-18T17:54:00.385768",
     "exception": false,
     "start_time": "2021-05-18T17:54:00.026485",
     "status": "completed"
    },
    "tags": []
   },
   "outputs": [
    {
     "data": {
      "image/png": "[encoded data removed]",
      "text/plain": [
       "<Figure size 432x288 with 1 Axes>"
      ]
     },
     "metadata": {
      "needs_background": "light"
     },
     "output_type": "display_data"
    }
   ],
   "source": [
    "plt.figure(figsize = (6, 4))\n",
    "\n",
    "plt.hist(train.Fare, bins = 60, color = 'orange')\n",
    "plt.xlabel('Fare')\n",
    "plt.show()"
   ]
  },
  {
   "cell_type": "markdown",
   "id": "statutory-hammer",
   "metadata": {
    "papermill": {
     "duration": 0.067981,
     "end_time": "2021-05-18T17:54:00.522317",
     "exception": false,
     "start_time": "2021-05-18T17:54:00.454336",
     "status": "completed"
    },
    "tags": []
   },
   "source": [
    "A lot of zero values here, so we will replace zero values with mean"
   ]
  },
  {
   "cell_type": "markdown",
   "id": "manual-scotland",
   "metadata": {
    "papermill": {
     "duration": 0.067507,
     "end_time": "2021-05-18T17:54:00.657858",
     "exception": false,
     "start_time": "2021-05-18T17:54:00.590351",
     "status": "completed"
    },
    "tags": []
   },
   "source": [
    "**Sibling Spouse**"
   ]
  },
  {
   "cell_type": "code",
   "execution_count": 67,
   "id": "biblical-threshold",
   "metadata": {
    "execution": {
     "iopub.execute_input": "2021-05-18T17:54:00.800450Z",
     "iopub.status.busy": "2021-05-18T17:54:00.799830Z",
     "iopub.status.idle": "2021-05-18T17:54:00.803240Z",
     "shell.execute_reply": "2021-05-18T17:54:00.803720Z"
    },
    "papermill": {
     "duration": 0.07815,
     "end_time": "2021-05-18T17:54:00.803921",
     "exception": false,
     "start_time": "2021-05-18T17:54:00.725771",
     "status": "completed"
    },
    "tags": []
   },
   "outputs": [
    {
     "data": {
      "text/plain": [
       "0    608\n",
       "1    209\n",
       "2     28\n",
       "4     18\n",
       "3     16\n",
       "8      7\n",
       "5      5\n",
       "Name: SibSp, dtype: int64"
      ]
     },
     "execution_count": 67,
     "metadata": {},
     "output_type": "execute_result"
    }
   ],
   "source": [
    "train.SibSp.value_counts()"
   ]
  },
  {
   "cell_type": "code",
   "execution_count": 68,
   "id": "north-traveler",
   "metadata": {
    "execution": {
     "iopub.execute_input": "2021-05-18T17:54:00.944715Z",
     "iopub.status.busy": "2021-05-18T17:54:00.944136Z",
     "iopub.status.idle": "2021-05-18T17:54:01.178330Z",
     "shell.execute_reply": "2021-05-18T17:54:01.178858Z"
    },
    "papermill": {
     "duration": 0.306195,
     "end_time": "2021-05-18T17:54:01.179054",
     "exception": false,
     "start_time": "2021-05-18T17:54:00.872859",
     "status": "completed"
    },
    "tags": []
   },
   "outputs": [
    {
     "data": {
      "image/png": "[encoded data removed]",
      "text/plain": [
       "<Figure size 432x288 with 1 Axes>"
      ]
     },
     "metadata": {
      "needs_background": "light"
     },
     "output_type": "display_data"
    }
   ],
   "source": [
    "plt.figure(figsize = (6, 4))\n",
    "\n",
    "sns.countplot(x = 'SibSp', data = train, hue = 'Survived')\n",
    "plt.show()"
   ]
  },
  {
   "cell_type": "markdown",
   "id": "organic-divorce",
   "metadata": {
    "papermill": {
     "duration": 0.068964,
     "end_time": "2021-05-18T17:54:01.317251",
     "exception": false,
     "start_time": "2021-05-18T17:54:01.248287",
     "status": "completed"
    },
    "tags": []
   },
   "source": [
    "SibSp survival by Sex"
   ]
  },
  {
   "cell_type": "code",
   "execution_count": 69,
   "id": "norman-david",
   "metadata": {
    "execution": {
     "iopub.execute_input": "2021-05-18T17:54:01.460795Z",
     "iopub.status.busy": "2021-05-18T17:54:01.460219Z",
     "iopub.status.idle": "2021-05-18T17:54:02.296429Z",
     "shell.execute_reply": "2021-05-18T17:54:02.296901Z"
    },
    "papermill": {
     "duration": 0.909391,
     "end_time": "2021-05-18T17:54:02.297077",
     "exception": false,
     "start_time": "2021-05-18T17:54:01.387686",
     "status": "completed"
    },
    "tags": []
   },
   "outputs": [
    {
     "data": {
      "image/png": "[encoded data removed]",
      "text/plain": [
       "<Figure size 648.85x288 with 1 Axes>"
      ]
     },
     "metadata": {
      "needs_background": "light"
     },
     "output_type": "display_data"
    }
   ],
   "source": [
    "sns.catplot(x = 'SibSp', y = 'Survived', kind = 'bar', hue = 'Sex', data = train, height = 4, aspect = 2)\n",
    "plt.show()"
   ]
  },
  {
   "cell_type": "markdown",
   "id": "human-rouge",
   "metadata": {
    "papermill": {
     "duration": 0.070452,
     "end_time": "2021-05-18T17:54:02.438109",
     "exception": false,
     "start_time": "2021-05-18T17:54:02.367657",
     "status": "completed"
    },
    "tags": []
   },
   "source": [
    "Passenger survival by SibSp and Pclass"
   ]
  },
  {
   "cell_type": "code",
   "execution_count": 70,
   "id": "different-formation",
   "metadata": {
    "execution": {
     "iopub.execute_input": "2021-05-18T17:54:02.581379Z",
     "iopub.status.busy": "2021-05-18T17:54:02.580751Z",
     "iopub.status.idle": "2021-05-18T17:54:03.771770Z",
     "shell.execute_reply": "2021-05-18T17:54:03.772326Z"
    },
    "papermill": {
     "duration": 1.26408,
     "end_time": "2021-05-18T17:54:03.772493",
     "exception": false,
     "start_time": "2021-05-18T17:54:02.508413",
     "status": "completed"
    },
    "tags": []
   },
   "outputs": [
    {
     "data": {
      "image/png": "[encoded data removed]",
      "text/plain": [
       "<Figure size 1080x360 with 3 Axes>"
      ]
     },
     "metadata": {
      "needs_background": "light"
     },
     "output_type": "display_data"
    }
   ],
   "source": [
    "sns.catplot(x = 'SibSp', y = 'Survived', col = 'Pclass', kind = 'bar', data = train)\n",
    "plt.show()"
   ]
  },
  {
   "cell_type": "markdown",
   "id": "solved-pledge",
   "metadata": {
    "papermill": {
     "duration": 0.070844,
     "end_time": "2021-05-18T17:54:03.913571",
     "exception": false,
     "start_time": "2021-05-18T17:54:03.842727",
     "status": "completed"
    },
    "tags": []
   },
   "source": [
    "Passenger Survival by SibSp and Sex"
   ]
  },
  {
   "cell_type": "code",
   "execution_count": 71,
   "id": "intermediate-harbor",
   "metadata": {
    "execution": {
     "iopub.execute_input": "2021-05-18T17:54:04.057512Z",
     "iopub.status.busy": "2021-05-18T17:54:04.056915Z",
     "iopub.status.idle": "2021-05-18T17:54:04.918359Z",
     "shell.execute_reply": "2021-05-18T17:54:04.918812Z"
    },
    "papermill": {
     "duration": 0.934749,
     "end_time": "2021-05-18T17:54:04.918983",
     "exception": false,
     "start_time": "2021-05-18T17:54:03.984234",
     "status": "completed"
    },
    "tags": []
   },
   "outputs": [
    {
     "data": {
      "image/png": "[encoded data removed]",
      "text/plain": [
       "<Figure size 648.85x288 with 1 Axes>"
      ]
     },
     "metadata": {
      "needs_background": "light"
     },
     "output_type": "display_data"
    }
   ],
   "source": [
    "sns.catplot(x = 'SibSp', y = 'Survived', kind = 'point', hue = 'Sex', data = train, height = 4, aspect = 2)\n",
    "plt.show()"
   ]
  },
  {
   "cell_type": "markdown",
   "id": "french-operation",
   "metadata": {
    "papermill": {
     "duration": 0.070638,
     "end_time": "2021-05-18T17:54:05.060698",
     "exception": false,
     "start_time": "2021-05-18T17:54:04.990060",
     "status": "completed"
    },
    "tags": []
   },
   "source": [
    "**Parch**"
   ]
  },
  {
   "cell_type": "code",
   "execution_count": 72,
   "id": "neural-undergraduate",
   "metadata": {
    "execution": {
     "iopub.execute_input": "2021-05-18T17:54:05.212081Z",
     "iopub.status.busy": "2021-05-18T17:54:05.211450Z",
     "iopub.status.idle": "2021-05-18T17:54:05.215295Z",
     "shell.execute_reply": "2021-05-18T17:54:05.214709Z"
    },
    "papermill": {
     "duration": 0.081848,
     "end_time": "2021-05-18T17:54:05.215415",
     "exception": false,
     "start_time": "2021-05-18T17:54:05.133567",
     "status": "completed"
    },
    "tags": []
   },
   "outputs": [
    {
     "data": {
      "text/plain": [
       "0    678\n",
       "1    118\n",
       "2     80\n",
       "5      5\n",
       "3      5\n",
       "4      4\n",
       "6      1\n",
       "Name: Parch, dtype: int64"
      ]
     },
     "execution_count": 72,
     "metadata": {},
     "output_type": "execute_result"
    }
   ],
   "source": [
    "train.Parch.value_counts()"
   ]
  },
  {
   "cell_type": "code",
   "execution_count": 73,
   "id": "round-elizabeth",
   "metadata": {
    "execution": {
     "iopub.execute_input": "2021-05-18T17:54:05.378276Z",
     "iopub.status.busy": "2021-05-18T17:54:05.377353Z",
     "iopub.status.idle": "2021-05-18T17:54:06.193741Z",
     "shell.execute_reply": "2021-05-18T17:54:06.193120Z"
    },
    "papermill": {
     "duration": 0.898193,
     "end_time": "2021-05-18T17:54:06.193886",
     "exception": false,
     "start_time": "2021-05-18T17:54:05.295693",
     "status": "completed"
    },
    "tags": []
   },
   "outputs": [
    {
     "data": {
      "image/png": "[encoded data removed]",
      "text/plain": [
       "<Figure size 648.85x288 with 1 Axes>"
      ]
     },
     "metadata": {
      "needs_background": "light"
     },
     "output_type": "display_data"
    }
   ],
   "source": [
    "sns.catplot(x = 'Parch', y = 'Survived', data = train, hue = 'Sex', kind = 'bar', height = 4, aspect = 2)\n",
    "plt.show()"
   ]
  },
  {
   "cell_type": "markdown",
   "id": "dental-tennessee",
   "metadata": {
    "papermill": {
     "duration": 0.073014,
     "end_time": "2021-05-18T17:54:06.340104",
     "exception": false,
     "start_time": "2021-05-18T17:54:06.267090",
     "status": "completed"
    },
    "tags": []
   },
   "source": [
    "**Ticket**"
   ]
  },
  {
   "cell_type": "code",
   "execution_count": 74,
   "id": "administrative-duncan",
   "metadata": {
    "execution": {
     "iopub.execute_input": "2021-05-18T17:54:06.495974Z",
     "iopub.status.busy": "2021-05-18T17:54:06.493373Z",
     "iopub.status.idle": "2021-05-18T17:54:06.499379Z",
     "shell.execute_reply": "2021-05-18T17:54:06.499863Z"
    },
    "papermill": {
     "duration": 0.086761,
     "end_time": "2021-05-18T17:54:06.500029",
     "exception": false,
     "start_time": "2021-05-18T17:54:06.413268",
     "status": "completed"
    },
    "tags": []
   },
   "outputs": [
    {
     "data": {
      "text/plain": [
       "347082      7\n",
       "CA. 2343    7\n",
       "1601        7\n",
       "3101295     6\n",
       "CA 2144     6\n",
       "           ..\n",
       "CA. 2314    1\n",
       "376566      1\n",
       "349210      1\n",
       "223596      1\n",
       "112059      1\n",
       "Name: Ticket, Length: 681, dtype: int64"
      ]
     },
     "execution_count": 74,
     "metadata": {},
     "output_type": "execute_result"
    }
   ],
   "source": [
    "train.Ticket.value_counts()"
   ]
  },
  {
   "cell_type": "code",
   "execution_count": 75,
   "id": "special-paris",
   "metadata": {
    "execution": {
     "iopub.execute_input": "2021-05-18T17:54:06.655576Z",
     "iopub.status.busy": "2021-05-18T17:54:06.654768Z",
     "iopub.status.idle": "2021-05-18T17:54:06.658030Z",
     "shell.execute_reply": "2021-05-18T17:54:06.658443Z"
    },
    "papermill": {
     "duration": 0.083998,
     "end_time": "2021-05-18T17:54:06.658599",
     "exception": false,
     "start_time": "2021-05-18T17:54:06.574601",
     "status": "completed"
    },
    "tags": []
   },
   "outputs": [
    {
     "data": {
      "text/plain": [
       "681"
      ]
     },
     "execution_count": 75,
     "metadata": {},
     "output_type": "execute_result"
    }
   ],
   "source": [
    "len(train.Ticket.unique())"
   ]
  },
  {
   "cell_type": "markdown",
   "id": "contrary-tragedy",
   "metadata": {
    "papermill": {
     "duration": 0.073638,
     "end_time": "2021-05-18T17:54:06.806689",
     "exception": false,
     "start_time": "2021-05-18T17:54:06.733051",
     "status": "completed"
    },
    "tags": []
   },
   "source": [
    "**Embarked**"
   ]
  },
  {
   "cell_type": "code",
   "execution_count": 76,
   "id": "standard-graphics",
   "metadata": {
    "execution": {
     "iopub.execute_input": "2021-05-18T17:54:06.957793Z",
     "iopub.status.busy": "2021-05-18T17:54:06.956993Z",
     "iopub.status.idle": "2021-05-18T17:54:06.964164Z",
     "shell.execute_reply": "2021-05-18T17:54:06.963701Z"
    },
    "papermill": {
     "duration": 0.083511,
     "end_time": "2021-05-18T17:54:06.964281",
     "exception": false,
     "start_time": "2021-05-18T17:54:06.880770",
     "status": "completed"
    },
    "tags": []
   },
   "outputs": [
    {
     "data": {
      "text/plain": [
       "S    644\n",
       "C    168\n",
       "Q     77\n",
       "Name: Embarked, dtype: int64"
      ]
     },
     "execution_count": 76,
     "metadata": {},
     "output_type": "execute_result"
    }
   ],
   "source": [
    "train['Embarked'].value_counts()"
   ]
  },
  {
   "cell_type": "code",
   "execution_count": 77,
   "id": "trained-bikini",
   "metadata": {
    "execution": {
     "iopub.execute_input": "2021-05-18T17:54:07.122690Z",
     "iopub.status.busy": "2021-05-18T17:54:07.122073Z",
     "iopub.status.idle": "2021-05-18T17:54:07.286446Z",
     "shell.execute_reply": "2021-05-18T17:54:07.286886Z"
    },
    "papermill": {
     "duration": 0.248294,
     "end_time": "2021-05-18T17:54:07.287048",
     "exception": false,
     "start_time": "2021-05-18T17:54:07.038754",
     "status": "completed"
    },
    "tags": []
   },
   "outputs": [
    {
     "data": {
      "image/png": "[encoded data removed]",
      "text/plain": [
       "<Figure size 432x288 with 1 Axes>"
      ]
     },
     "metadata": {
      "needs_background": "light"
     },
     "output_type": "display_data"
    }
   ],
   "source": [
    "plt.figure(figsize = (6, 4))\n",
    "\n",
    "sns.countplot('Embarked', hue = 'Survived', data = train)\n",
    "plt.show()"
   ]
  },
  {
   "cell_type": "code",
   "execution_count": 78,
   "id": "thrown-support",
   "metadata": {
    "execution": {
     "iopub.execute_input": "2021-05-18T17:54:07.446457Z",
     "iopub.status.busy": "2021-05-18T17:54:07.445755Z",
     "iopub.status.idle": "2021-05-18T17:54:08.094065Z",
     "shell.execute_reply": "2021-05-18T17:54:08.094518Z"
    },
    "papermill": {
     "duration": 0.732302,
     "end_time": "2021-05-18T17:54:08.094684",
     "exception": false,
     "start_time": "2021-05-18T17:54:07.362382",
     "status": "completed"
    },
    "tags": []
   },
   "outputs": [
    {
     "data": {
      "image/png": "[encoded data removed]",
      "text/plain": [
       "<Figure size 720x360 with 2 Axes>"
      ]
     },
     "metadata": {
      "needs_background": "light"
     },
     "output_type": "display_data"
    }
   ],
   "source": [
    "sns.catplot(x = 'Embarked', y = 'Survived', kind = 'bar', data = train, col = 'Sex')\n",
    "plt.show()"
   ]
  },
  {
   "cell_type": "markdown",
   "id": "legal-secretary",
   "metadata": {
    "papermill": {
     "duration": 0.075326,
     "end_time": "2021-05-18T17:54:08.246425",
     "exception": false,
     "start_time": "2021-05-18T17:54:08.171099",
     "status": "completed"
    },
    "tags": []
   },
   "source": [
    "After Analysis:\n",
    "* Females survived more than males.\n",
    "* Higher class passengers survived more\n",
    "* Name has unique values so not suitable\n",
    "* Survival Rate is higher for those who were travelling with siblings or spouses\n",
    "* Survival Rate is higher for those who were travelling with Parents or Children\n",
    "* Ticket does not impact survival\n",
    "* Cabin is not useful as it has a lot of null values\n",
    "* Passengers from Cherbourg port survived more than the other two ports\n"
   ]
  },
  {
   "cell_type": "markdown",
   "id": "heavy-century",
   "metadata": {
    "papermill": {
     "duration": 0.08089,
     "end_time": "2021-05-18T17:54:08.403339",
     "exception": false,
     "start_time": "2021-05-18T17:54:08.322449",
     "status": "completed"
    },
    "tags": []
   },
   "source": [
    "Training Data Preprocessing"
   ]
  },
  {
   "cell_type": "code",
   "execution_count": 79,
   "id": "transparent-premium",
   "metadata": {
    "execution": {
     "iopub.execute_input": "2021-05-18T17:54:08.563691Z",
     "iopub.status.busy": "2021-05-18T17:54:08.563052Z",
     "iopub.status.idle": "2021-05-18T17:54:08.566098Z",
     "shell.execute_reply": "2021-05-18T17:54:08.565604Z"
    },
    "papermill": {
     "duration": 0.086058,
     "end_time": "2021-05-18T17:54:08.566233",
     "exception": false,
     "start_time": "2021-05-18T17:54:08.480175",
     "status": "completed"
    },
    "tags": []
   },
   "outputs": [],
   "source": [
    "train.drop(['Name', 'Ticket', 'Cabin'], axis = 1, inplace = True )"
   ]
  },
  {
   "cell_type": "code",
   "execution_count": 80,
   "id": "religious-scientist",
   "metadata": {
    "execution": {
     "iopub.execute_input": "2021-05-18T17:54:08.726381Z",
     "iopub.status.busy": "2021-05-18T17:54:08.725741Z",
     "iopub.status.idle": "2021-05-18T17:54:08.741922Z",
     "shell.execute_reply": "2021-05-18T17:54:08.742401Z"
    },
    "papermill": {
     "duration": 0.099023,
     "end_time": "2021-05-18T17:54:08.742573",
     "exception": false,
     "start_time": "2021-05-18T17:54:08.643550",
     "status": "completed"
    },
    "tags": []
   },
   "outputs": [
    {
     "data": {
      "text/html": [
       "<div>\n",
       "<style scoped>\n",
       "    .dataframe tbody tr th:only-of-type {\n",
       "        vertical-align: middle;\n",
       "    }\n",
       "\n",
       "    .dataframe tbody tr th {\n",
       "        vertical-align: top;\n",
       "    }\n",
       "\n",
       "    .dataframe thead th {\n",
       "        text-align: right;\n",
       "    }\n",
       "</style>\n",
       "<table border=\"1\" class=\"dataframe\">\n",
       "  <thead>\n",
       "    <tr style=\"text-align: right;\">\n",
       "      <th></th>\n",
       "      <th>PassengerId</th>\n",
       "      <th>Survived</th>\n",
       "      <th>Pclass</th>\n",
       "      <th>Sex</th>\n",
       "      <th>Age</th>\n",
       "      <th>SibSp</th>\n",
       "      <th>Parch</th>\n",
       "      <th>Fare</th>\n",
       "      <th>Embarked</th>\n",
       "    </tr>\n",
       "  </thead>\n",
       "  <tbody>\n",
       "    <tr>\n",
       "      <th>0</th>\n",
       "      <td>1</td>\n",
       "      <td>0</td>\n",
       "      <td>3</td>\n",
       "      <td>male</td>\n",
       "      <td>22.0</td>\n",
       "      <td>1</td>\n",
       "      <td>0</td>\n",
       "      <td>7.2500</td>\n",
       "      <td>S</td>\n",
       "    </tr>\n",
       "    <tr>\n",
       "      <th>1</th>\n",
       "      <td>2</td>\n",
       "      <td>1</td>\n",
       "      <td>1</td>\n",
       "      <td>female</td>\n",
       "      <td>38.0</td>\n",
       "      <td>1</td>\n",
       "      <td>0</td>\n",
       "      <td>71.2833</td>\n",
       "      <td>C</td>\n",
       "    </tr>\n",
       "    <tr>\n",
       "      <th>2</th>\n",
       "      <td>3</td>\n",
       "      <td>1</td>\n",
       "      <td>3</td>\n",
       "      <td>female</td>\n",
       "      <td>26.0</td>\n",
       "      <td>0</td>\n",
       "      <td>0</td>\n",
       "      <td>7.9250</td>\n",
       "      <td>S</td>\n",
       "    </tr>\n",
       "    <tr>\n",
       "      <th>3</th>\n",
       "      <td>4</td>\n",
       "      <td>1</td>\n",
       "      <td>1</td>\n",
       "      <td>female</td>\n",
       "      <td>35.0</td>\n",
       "      <td>1</td>\n",
       "      <td>0</td>\n",
       "      <td>53.1000</td>\n",
       "      <td>S</td>\n",
       "    </tr>\n",
       "    <tr>\n",
       "      <th>4</th>\n",
       "      <td>5</td>\n",
       "      <td>0</td>\n",
       "      <td>3</td>\n",
       "      <td>male</td>\n",
       "      <td>35.0</td>\n",
       "      <td>0</td>\n",
       "      <td>0</td>\n",
       "      <td>8.0500</td>\n",
       "      <td>S</td>\n",
       "    </tr>\n",
       "  </tbody>\n",
       "</table>\n",
       "</div>"
      ],
      "text/plain": [
       "   PassengerId  Survived  Pclass     Sex   Age  SibSp  Parch     Fare Embarked\n",
       "0            1         0       3    male  22.0      1      0   7.2500        S\n",
       "1            2         1       1  female  38.0      1      0  71.2833        C\n",
       "2            3         1       3  female  26.0      0      0   7.9250        S\n",
       "3            4         1       1  female  35.0      1      0  53.1000        S\n",
       "4            5         0       3    male  35.0      0      0   8.0500        S"
      ]
     },
     "execution_count": 80,
     "metadata": {},
     "output_type": "execute_result"
    }
   ],
   "source": [
    "train.head()"
   ]
  },
  {
   "cell_type": "code",
   "execution_count": 81,
   "id": "thick-static",
   "metadata": {
    "execution": {
     "iopub.execute_input": "2021-05-18T17:54:08.901703Z",
     "iopub.status.busy": "2021-05-18T17:54:08.901097Z",
     "iopub.status.idle": "2021-05-18T17:54:08.909170Z",
     "shell.execute_reply": "2021-05-18T17:54:08.909623Z"
    },
    "papermill": {
     "duration": 0.089357,
     "end_time": "2021-05-18T17:54:08.909808",
     "exception": false,
     "start_time": "2021-05-18T17:54:08.820451",
     "status": "completed"
    },
    "tags": []
   },
   "outputs": [
    {
     "data": {
      "text/plain": [
       "PassengerId      0\n",
       "Survived         0\n",
       "Pclass           0\n",
       "Sex              0\n",
       "Age            177\n",
       "SibSp            0\n",
       "Parch            0\n",
       "Fare             0\n",
       "Embarked         2\n",
       "dtype: int64"
      ]
     },
     "execution_count": 81,
     "metadata": {},
     "output_type": "execute_result"
    }
   ],
   "source": [
    "train.isna().sum()"
   ]
  },
  {
   "cell_type": "code",
   "execution_count": 82,
   "id": "forty-infrared",
   "metadata": {
    "execution": {
     "iopub.execute_input": "2021-05-18T17:54:09.073054Z",
     "iopub.status.busy": "2021-05-18T17:54:09.072396Z",
     "iopub.status.idle": "2021-05-18T17:54:09.075219Z",
     "shell.execute_reply": "2021-05-18T17:54:09.074625Z"
    },
    "papermill": {
     "duration": 0.088491,
     "end_time": "2021-05-18T17:54:09.075349",
     "exception": false,
     "start_time": "2021-05-18T17:54:08.986858",
     "status": "completed"
    },
    "tags": []
   },
   "outputs": [],
   "source": [
    "train['Fare'] = train['Fare'].replace(0, train['Fare'].mean())"
   ]
  },
  {
   "cell_type": "code",
   "execution_count": 83,
   "id": "casual-transmission",
   "metadata": {
    "execution": {
     "iopub.execute_input": "2021-05-18T17:54:09.236942Z",
     "iopub.status.busy": "2021-05-18T17:54:09.236284Z",
     "iopub.status.idle": "2021-05-18T17:54:09.239356Z",
     "shell.execute_reply": "2021-05-18T17:54:09.238779Z"
    },
    "papermill": {
     "duration": 0.086272,
     "end_time": "2021-05-18T17:54:09.239503",
     "exception": false,
     "start_time": "2021-05-18T17:54:09.153231",
     "status": "completed"
    },
    "tags": []
   },
   "outputs": [],
   "source": [
    "train['Age'].fillna(train['Age'].mean(), inplace=True)"
   ]
  },
  {
   "cell_type": "code",
   "execution_count": 86,
   "id": "contrary-chinese",
   "metadata": {
    "execution": {
     "iopub.execute_input": "2021-05-18T17:54:09.401909Z",
     "iopub.status.busy": "2021-05-18T17:54:09.401296Z",
     "iopub.status.idle": "2021-05-18T17:54:09.404466Z",
     "shell.execute_reply": "2021-05-18T17:54:09.403978Z"
    },
    "papermill": {
     "duration": 0.087009,
     "end_time": "2021-05-18T17:54:09.404602",
     "exception": false,
     "start_time": "2021-05-18T17:54:09.317593",
     "status": "completed"
    },
    "tags": []
   },
   "outputs": [],
   "source": [
    "train['Embarked'].fillna(train['Embarked'].mode()[0], inplace=True)"
   ]
  },
  {
   "cell_type": "code",
   "execution_count": 87,
   "id": "warming-projection",
   "metadata": {
    "execution": {
     "iopub.execute_input": "2021-05-18T17:54:09.569082Z",
     "iopub.status.busy": "2021-05-18T17:54:09.568169Z",
     "iopub.status.idle": "2021-05-18T17:54:09.572573Z",
     "shell.execute_reply": "2021-05-18T17:54:09.571981Z"
    },
    "papermill": {
     "duration": 0.089845,
     "end_time": "2021-05-18T17:54:09.572726",
     "exception": false,
     "start_time": "2021-05-18T17:54:09.482881",
     "status": "completed"
    },
    "tags": []
   },
   "outputs": [
    {
     "data": {
      "text/plain": [
       "PassengerId    0\n",
       "Survived       0\n",
       "Pclass         0\n",
       "Sex            0\n",
       "Age            0\n",
       "SibSp          0\n",
       "Parch          0\n",
       "Fare           0\n",
       "Embarked       0\n",
       "dtype: int64"
      ]
     },
     "execution_count": 87,
     "metadata": {},
     "output_type": "execute_result"
    }
   ],
   "source": [
    "train.isna().sum()"
   ]
  },
  {
   "cell_type": "code",
   "execution_count": 88,
   "id": "irish-conservation",
   "metadata": {
    "execution": {
     "iopub.execute_input": "2021-05-18T17:54:09.744017Z",
     "iopub.status.busy": "2021-05-18T17:54:09.743146Z",
     "iopub.status.idle": "2021-05-18T17:54:09.747265Z",
     "shell.execute_reply": "2021-05-18T17:54:09.746659Z"
    },
    "papermill": {
     "duration": 0.095686,
     "end_time": "2021-05-18T17:54:09.747394",
     "exception": false,
     "start_time": "2021-05-18T17:54:09.651708",
     "status": "completed"
    },
    "tags": []
   },
   "outputs": [
    {
     "data": {
      "text/html": [
       "<div>\n",
       "<style scoped>\n",
       "    .dataframe tbody tr th:only-of-type {\n",
       "        vertical-align: middle;\n",
       "    }\n",
       "\n",
       "    .dataframe tbody tr th {\n",
       "        vertical-align: top;\n",
       "    }\n",
       "\n",
       "    .dataframe thead th {\n",
       "        text-align: right;\n",
       "    }\n",
       "</style>\n",
       "<table border=\"1\" class=\"dataframe\">\n",
       "  <thead>\n",
       "    <tr style=\"text-align: right;\">\n",
       "      <th></th>\n",
       "      <th>PassengerId</th>\n",
       "      <th>Survived</th>\n",
       "      <th>Pclass</th>\n",
       "      <th>Sex</th>\n",
       "      <th>Age</th>\n",
       "      <th>SibSp</th>\n",
       "      <th>Parch</th>\n",
       "      <th>Fare</th>\n",
       "      <th>Embarked</th>\n",
       "    </tr>\n",
       "  </thead>\n",
       "  <tbody>\n",
       "    <tr>\n",
       "      <th>0</th>\n",
       "      <td>1</td>\n",
       "      <td>0</td>\n",
       "      <td>3</td>\n",
       "      <td>male</td>\n",
       "      <td>22.0</td>\n",
       "      <td>1</td>\n",
       "      <td>0</td>\n",
       "      <td>7.2500</td>\n",
       "      <td>S</td>\n",
       "    </tr>\n",
       "    <tr>\n",
       "      <th>1</th>\n",
       "      <td>2</td>\n",
       "      <td>1</td>\n",
       "      <td>1</td>\n",
       "      <td>female</td>\n",
       "      <td>38.0</td>\n",
       "      <td>1</td>\n",
       "      <td>0</td>\n",
       "      <td>71.2833</td>\n",
       "      <td>C</td>\n",
       "    </tr>\n",
       "    <tr>\n",
       "      <th>2</th>\n",
       "      <td>3</td>\n",
       "      <td>1</td>\n",
       "      <td>3</td>\n",
       "      <td>female</td>\n",
       "      <td>26.0</td>\n",
       "      <td>0</td>\n",
       "      <td>0</td>\n",
       "      <td>7.9250</td>\n",
       "      <td>S</td>\n",
       "    </tr>\n",
       "    <tr>\n",
       "      <th>3</th>\n",
       "      <td>4</td>\n",
       "      <td>1</td>\n",
       "      <td>1</td>\n",
       "      <td>female</td>\n",
       "      <td>35.0</td>\n",
       "      <td>1</td>\n",
       "      <td>0</td>\n",
       "      <td>53.1000</td>\n",
       "      <td>S</td>\n",
       "    </tr>\n",
       "    <tr>\n",
       "      <th>4</th>\n",
       "      <td>5</td>\n",
       "      <td>0</td>\n",
       "      <td>3</td>\n",
       "      <td>male</td>\n",
       "      <td>35.0</td>\n",
       "      <td>0</td>\n",
       "      <td>0</td>\n",
       "      <td>8.0500</td>\n",
       "      <td>S</td>\n",
       "    </tr>\n",
       "  </tbody>\n",
       "</table>\n",
       "</div>"
      ],
      "text/plain": [
       "   PassengerId  Survived  Pclass     Sex   Age  SibSp  Parch     Fare Embarked\n",
       "0            1         0       3    male  22.0      1      0   7.2500        S\n",
       "1            2         1       1  female  38.0      1      0  71.2833        C\n",
       "2            3         1       3  female  26.0      0      0   7.9250        S\n",
       "3            4         1       1  female  35.0      1      0  53.1000        S\n",
       "4            5         0       3    male  35.0      0      0   8.0500        S"
      ]
     },
     "execution_count": 88,
     "metadata": {},
     "output_type": "execute_result"
    }
   ],
   "source": [
    "train.head()"
   ]
  },
  {
   "cell_type": "code",
   "execution_count": 89,
   "id": "worst-harassment",
   "metadata": {
    "execution": {
     "iopub.execute_input": "2021-05-18T17:54:09.914147Z",
     "iopub.status.busy": "2021-05-18T17:54:09.913140Z",
     "iopub.status.idle": "2021-05-18T17:54:09.915979Z",
     "shell.execute_reply": "2021-05-18T17:54:09.915378Z"
    },
    "papermill": {
     "duration": 0.088718,
     "end_time": "2021-05-18T17:54:09.916108",
     "exception": false,
     "start_time": "2021-05-18T17:54:09.827390",
     "status": "completed"
    },
    "tags": []
   },
   "outputs": [],
   "source": [
    "train['Embarked'] = train['Embarked'].map({'S' : 0, 'C': 1, 'Q': 2})"
   ]
  },
  {
   "cell_type": "code",
   "execution_count": 90,
   "id": "classified-assembly",
   "metadata": {
    "execution": {
     "iopub.execute_input": "2021-05-18T17:54:10.082020Z",
     "iopub.status.busy": "2021-05-18T17:54:10.081088Z",
     "iopub.status.idle": "2021-05-18T17:54:10.083784Z",
     "shell.execute_reply": "2021-05-18T17:54:10.084236Z"
    },
    "papermill": {
     "duration": 0.08892,
     "end_time": "2021-05-18T17:54:10.084396",
     "exception": false,
     "start_time": "2021-05-18T17:54:09.995476",
     "status": "completed"
    },
    "tags": []
   },
   "outputs": [],
   "source": [
    "train['Sex'] = train['Sex'].map({'male' : 1, 'female': 0})"
   ]
  },
  {
   "cell_type": "code",
   "execution_count": 91,
   "id": "hourly-darwin",
   "metadata": {
    "execution": {
     "iopub.execute_input": "2021-05-18T17:54:10.255181Z",
     "iopub.status.busy": "2021-05-18T17:54:10.254245Z",
     "iopub.status.idle": "2021-05-18T17:54:10.258634Z",
     "shell.execute_reply": "2021-05-18T17:54:10.258158Z"
    },
    "papermill": {
     "duration": 0.095061,
     "end_time": "2021-05-18T17:54:10.258769",
     "exception": false,
     "start_time": "2021-05-18T17:54:10.163708",
     "status": "completed"
    },
    "tags": []
   },
   "outputs": [
    {
     "data": {
      "text/html": [
       "<div>\n",
       "<style scoped>\n",
       "    .dataframe tbody tr th:only-of-type {\n",
       "        vertical-align: middle;\n",
       "    }\n",
       "\n",
       "    .dataframe tbody tr th {\n",
       "        vertical-align: top;\n",
       "    }\n",
       "\n",
       "    .dataframe thead th {\n",
       "        text-align: right;\n",
       "    }\n",
       "</style>\n",
       "<table border=\"1\" class=\"dataframe\">\n",
       "  <thead>\n",
       "    <tr style=\"text-align: right;\">\n",
       "      <th></th>\n",
       "      <th>PassengerId</th>\n",
       "      <th>Survived</th>\n",
       "      <th>Pclass</th>\n",
       "      <th>Sex</th>\n",
       "      <th>Age</th>\n",
       "      <th>SibSp</th>\n",
       "      <th>Parch</th>\n",
       "      <th>Fare</th>\n",
       "      <th>Embarked</th>\n",
       "    </tr>\n",
       "  </thead>\n",
       "  <tbody>\n",
       "    <tr>\n",
       "      <th>0</th>\n",
       "      <td>1</td>\n",
       "      <td>0</td>\n",
       "      <td>3</td>\n",
       "      <td>1</td>\n",
       "      <td>22.0</td>\n",
       "      <td>1</td>\n",
       "      <td>0</td>\n",
       "      <td>7.2500</td>\n",
       "      <td>0</td>\n",
       "    </tr>\n",
       "    <tr>\n",
       "      <th>1</th>\n",
       "      <td>2</td>\n",
       "      <td>1</td>\n",
       "      <td>1</td>\n",
       "      <td>0</td>\n",
       "      <td>38.0</td>\n",
       "      <td>1</td>\n",
       "      <td>0</td>\n",
       "      <td>71.2833</td>\n",
       "      <td>1</td>\n",
       "    </tr>\n",
       "    <tr>\n",
       "      <th>2</th>\n",
       "      <td>3</td>\n",
       "      <td>1</td>\n",
       "      <td>3</td>\n",
       "      <td>0</td>\n",
       "      <td>26.0</td>\n",
       "      <td>0</td>\n",
       "      <td>0</td>\n",
       "      <td>7.9250</td>\n",
       "      <td>0</td>\n",
       "    </tr>\n",
       "    <tr>\n",
       "      <th>3</th>\n",
       "      <td>4</td>\n",
       "      <td>1</td>\n",
       "      <td>1</td>\n",
       "      <td>0</td>\n",
       "      <td>35.0</td>\n",
       "      <td>1</td>\n",
       "      <td>0</td>\n",
       "      <td>53.1000</td>\n",
       "      <td>0</td>\n",
       "    </tr>\n",
       "    <tr>\n",
       "      <th>4</th>\n",
       "      <td>5</td>\n",
       "      <td>0</td>\n",
       "      <td>3</td>\n",
       "      <td>1</td>\n",
       "      <td>35.0</td>\n",
       "      <td>0</td>\n",
       "      <td>0</td>\n",
       "      <td>8.0500</td>\n",
       "      <td>0</td>\n",
       "    </tr>\n",
       "  </tbody>\n",
       "</table>\n",
       "</div>"
      ],
      "text/plain": [
       "   PassengerId  Survived  Pclass  Sex   Age  SibSp  Parch     Fare  Embarked\n",
       "0            1         0       3    1  22.0      1      0   7.2500         0\n",
       "1            2         1       1    0  38.0      1      0  71.2833         1\n",
       "2            3         1       3    0  26.0      0      0   7.9250         0\n",
       "3            4         1       1    0  35.0      1      0  53.1000         0\n",
       "4            5         0       3    1  35.0      0      0   8.0500         0"
      ]
     },
     "execution_count": 91,
     "metadata": {},
     "output_type": "execute_result"
    }
   ],
   "source": [
    "train.head()"
   ]
  },
  {
   "cell_type": "code",
   "execution_count": 92,
   "id": "excess-saskatchewan",
   "metadata": {
    "execution": {
     "iopub.execute_input": "2021-05-18T17:54:10.437239Z",
     "iopub.status.busy": "2021-05-18T17:54:10.428480Z",
     "iopub.status.idle": "2021-05-18T17:54:10.461821Z",
     "shell.execute_reply": "2021-05-18T17:54:10.460887Z"
    },
    "papermill": {
     "duration": 0.122857,
     "end_time": "2021-05-18T17:54:10.461962",
     "exception": false,
     "start_time": "2021-05-18T17:54:10.339105",
     "status": "completed"
    },
    "tags": []
   },
   "outputs": [
    {
     "data": {
      "text/html": [
       "<div>\n",
       "<style scoped>\n",
       "    .dataframe tbody tr th:only-of-type {\n",
       "        vertical-align: middle;\n",
       "    }\n",
       "\n",
       "    .dataframe tbody tr th {\n",
       "        vertical-align: top;\n",
       "    }\n",
       "\n",
       "    .dataframe thead th {\n",
       "        text-align: right;\n",
       "    }\n",
       "</style>\n",
       "<table border=\"1\" class=\"dataframe\">\n",
       "  <thead>\n",
       "    <tr style=\"text-align: right;\">\n",
       "      <th></th>\n",
       "      <th>PassengerId</th>\n",
       "      <th>Survived</th>\n",
       "      <th>Pclass</th>\n",
       "      <th>Sex</th>\n",
       "      <th>Age</th>\n",
       "      <th>SibSp</th>\n",
       "      <th>Parch</th>\n",
       "      <th>Fare</th>\n",
       "      <th>Embarked</th>\n",
       "    </tr>\n",
       "  </thead>\n",
       "  <tbody>\n",
       "    <tr>\n",
       "      <th>count</th>\n",
       "      <td>891.000000</td>\n",
       "      <td>891.000000</td>\n",
       "      <td>891.000000</td>\n",
       "      <td>891.000000</td>\n",
       "      <td>891.000000</td>\n",
       "      <td>891.000000</td>\n",
       "      <td>891.000000</td>\n",
       "      <td>891.000000</td>\n",
       "      <td>891.000000</td>\n",
       "    </tr>\n",
       "    <tr>\n",
       "      <th>mean</th>\n",
       "      <td>446.000000</td>\n",
       "      <td>0.383838</td>\n",
       "      <td>2.308642</td>\n",
       "      <td>0.647587</td>\n",
       "      <td>29.699118</td>\n",
       "      <td>0.523008</td>\n",
       "      <td>0.381594</td>\n",
       "      <td>32.746366</td>\n",
       "      <td>0.361392</td>\n",
       "    </tr>\n",
       "    <tr>\n",
       "      <th>std</th>\n",
       "      <td>257.353842</td>\n",
       "      <td>0.486592</td>\n",
       "      <td>0.836071</td>\n",
       "      <td>0.477990</td>\n",
       "      <td>13.002015</td>\n",
       "      <td>1.102743</td>\n",
       "      <td>0.806057</td>\n",
       "      <td>49.514272</td>\n",
       "      <td>0.635673</td>\n",
       "    </tr>\n",
       "    <tr>\n",
       "      <th>min</th>\n",
       "      <td>1.000000</td>\n",
       "      <td>0.000000</td>\n",
       "      <td>1.000000</td>\n",
       "      <td>0.000000</td>\n",
       "      <td>0.420000</td>\n",
       "      <td>0.000000</td>\n",
       "      <td>0.000000</td>\n",
       "      <td>4.012500</td>\n",
       "      <td>0.000000</td>\n",
       "    </tr>\n",
       "    <tr>\n",
       "      <th>25%</th>\n",
       "      <td>223.500000</td>\n",
       "      <td>0.000000</td>\n",
       "      <td>2.000000</td>\n",
       "      <td>0.000000</td>\n",
       "      <td>22.000000</td>\n",
       "      <td>0.000000</td>\n",
       "      <td>0.000000</td>\n",
       "      <td>7.925000</td>\n",
       "      <td>0.000000</td>\n",
       "    </tr>\n",
       "    <tr>\n",
       "      <th>50%</th>\n",
       "      <td>446.000000</td>\n",
       "      <td>0.000000</td>\n",
       "      <td>3.000000</td>\n",
       "      <td>1.000000</td>\n",
       "      <td>29.699118</td>\n",
       "      <td>0.000000</td>\n",
       "      <td>0.000000</td>\n",
       "      <td>15.100000</td>\n",
       "      <td>0.000000</td>\n",
       "    </tr>\n",
       "    <tr>\n",
       "      <th>75%</th>\n",
       "      <td>668.500000</td>\n",
       "      <td>1.000000</td>\n",
       "      <td>3.000000</td>\n",
       "      <td>1.000000</td>\n",
       "      <td>35.000000</td>\n",
       "      <td>1.000000</td>\n",
       "      <td>0.000000</td>\n",
       "      <td>32.204208</td>\n",
       "      <td>1.000000</td>\n",
       "    </tr>\n",
       "    <tr>\n",
       "      <th>max</th>\n",
       "      <td>891.000000</td>\n",
       "      <td>1.000000</td>\n",
       "      <td>3.000000</td>\n",
       "      <td>1.000000</td>\n",
       "      <td>80.000000</td>\n",
       "      <td>8.000000</td>\n",
       "      <td>6.000000</td>\n",
       "      <td>512.329200</td>\n",
       "      <td>2.000000</td>\n",
       "    </tr>\n",
       "  </tbody>\n",
       "</table>\n",
       "</div>"
      ],
      "text/plain": [
       "       PassengerId    Survived      Pclass         Sex         Age  \\\n",
       "count   891.000000  891.000000  891.000000  891.000000  891.000000   \n",
       "mean    446.000000    0.383838    2.308642    0.647587   29.699118   \n",
       "std     257.353842    0.486592    0.836071    0.477990   13.002015   \n",
       "min       1.000000    0.000000    1.000000    0.000000    0.420000   \n",
       "25%     223.500000    0.000000    2.000000    0.000000   22.000000   \n",
       "50%     446.000000    0.000000    3.000000    1.000000   29.699118   \n",
       "75%     668.500000    1.000000    3.000000    1.000000   35.000000   \n",
       "max     891.000000    1.000000    3.000000    1.000000   80.000000   \n",
       "\n",
       "            SibSp       Parch        Fare    Embarked  \n",
       "count  891.000000  891.000000  891.000000  891.000000  \n",
       "mean     0.523008    0.381594   32.746366    0.361392  \n",
       "std      1.102743    0.806057   49.514272    0.635673  \n",
       "min      0.000000    0.000000    4.012500    0.000000  \n",
       "25%      0.000000    0.000000    7.925000    0.000000  \n",
       "50%      0.000000    0.000000   15.100000    0.000000  \n",
       "75%      1.000000    0.000000   32.204208    1.000000  \n",
       "max      8.000000    6.000000  512.329200    2.000000  "
      ]
     },
     "execution_count": 92,
     "metadata": {},
     "output_type": "execute_result"
    }
   ],
   "source": [
    "train.describe()"
   ]
  },
  {
   "cell_type": "code",
   "execution_count": 93,
   "id": "brief-jaguar",
   "metadata": {
    "execution": {
     "iopub.execute_input": "2021-05-18T17:54:10.630002Z",
     "iopub.status.busy": "2021-05-18T17:54:10.627393Z",
     "iopub.status.idle": "2021-05-18T17:54:10.633934Z",
     "shell.execute_reply": "2021-05-18T17:54:10.633433Z"
    },
    "papermill": {
     "duration": 0.091753,
     "end_time": "2021-05-18T17:54:10.634071",
     "exception": false,
     "start_time": "2021-05-18T17:54:10.542318",
     "status": "completed"
    },
    "tags": []
   },
   "outputs": [
    {
     "data": {
      "text/plain": [
       "PassengerId    66231.000000\n",
       "Survived           0.236772\n",
       "Pclass             0.699015\n",
       "Sex                0.228475\n",
       "Age              169.052400\n",
       "SibSp              1.216043\n",
       "Parch              0.649728\n",
       "Fare            2451.663181\n",
       "Embarked           0.404081\n",
       "dtype: float64"
      ]
     },
     "execution_count": 93,
     "metadata": {},
     "output_type": "execute_result"
    }
   ],
   "source": [
    "train.var()"
   ]
  },
  {
   "cell_type": "markdown",
   "id": "nasty-killer",
   "metadata": {
    "papermill": {
     "duration": 0.081143,
     "end_time": "2021-05-18T17:54:10.796519",
     "exception": false,
     "start_time": "2021-05-18T17:54:10.715376",
     "status": "completed"
    },
    "tags": []
   },
   "source": [
    "High variance in fare, age so normalize"
   ]
  },
  {
   "cell_type": "code",
   "execution_count": 94,
   "id": "recent-backup",
   "metadata": {
    "execution": {
     "iopub.execute_input": "2021-05-18T17:54:10.965608Z",
     "iopub.status.busy": "2021-05-18T17:54:10.965029Z",
     "iopub.status.idle": "2021-05-18T17:54:10.967449Z",
     "shell.execute_reply": "2021-05-18T17:54:10.967974Z"
    },
    "papermill": {
     "duration": 0.088958,
     "end_time": "2021-05-18T17:54:10.968246",
     "exception": false,
     "start_time": "2021-05-18T17:54:10.879288",
     "status": "completed"
    },
    "tags": []
   },
   "outputs": [],
   "source": [
    "train['Age'] = np.log(train['Age'])\n",
    "train['Fare'] = np.log(train['Fare'])"
   ]
  },
  {
   "cell_type": "code",
   "execution_count": 95,
   "id": "educated-congo",
   "metadata": {
    "execution": {
     "iopub.execute_input": "2021-05-18T17:54:11.134896Z",
     "iopub.status.busy": "2021-05-18T17:54:11.134284Z",
     "iopub.status.idle": "2021-05-18T17:54:11.145593Z",
     "shell.execute_reply": "2021-05-18T17:54:11.146121Z"
    },
    "papermill": {
     "duration": 0.096386,
     "end_time": "2021-05-18T17:54:11.146298",
     "exception": false,
     "start_time": "2021-05-18T17:54:11.049912",
     "status": "completed"
    },
    "tags": []
   },
   "outputs": [
    {
     "data": {
      "text/html": [
       "<div>\n",
       "<style scoped>\n",
       "    .dataframe tbody tr th:only-of-type {\n",
       "        vertical-align: middle;\n",
       "    }\n",
       "\n",
       "    .dataframe tbody tr th {\n",
       "        vertical-align: top;\n",
       "    }\n",
       "\n",
       "    .dataframe thead th {\n",
       "        text-align: right;\n",
       "    }\n",
       "</style>\n",
       "<table border=\"1\" class=\"dataframe\">\n",
       "  <thead>\n",
       "    <tr style=\"text-align: right;\">\n",
       "      <th></th>\n",
       "      <th>PassengerId</th>\n",
       "      <th>Survived</th>\n",
       "      <th>Pclass</th>\n",
       "      <th>Sex</th>\n",
       "      <th>Age</th>\n",
       "      <th>SibSp</th>\n",
       "      <th>Parch</th>\n",
       "      <th>Fare</th>\n",
       "      <th>Embarked</th>\n",
       "    </tr>\n",
       "  </thead>\n",
       "  <tbody>\n",
       "    <tr>\n",
       "      <th>0</th>\n",
       "      <td>1</td>\n",
       "      <td>0</td>\n",
       "      <td>3</td>\n",
       "      <td>1</td>\n",
       "      <td>3.091042</td>\n",
       "      <td>1</td>\n",
       "      <td>0</td>\n",
       "      <td>1.981001</td>\n",
       "      <td>0</td>\n",
       "    </tr>\n",
       "    <tr>\n",
       "      <th>1</th>\n",
       "      <td>2</td>\n",
       "      <td>1</td>\n",
       "      <td>1</td>\n",
       "      <td>0</td>\n",
       "      <td>3.637586</td>\n",
       "      <td>1</td>\n",
       "      <td>0</td>\n",
       "      <td>4.266662</td>\n",
       "      <td>1</td>\n",
       "    </tr>\n",
       "    <tr>\n",
       "      <th>2</th>\n",
       "      <td>3</td>\n",
       "      <td>1</td>\n",
       "      <td>3</td>\n",
       "      <td>0</td>\n",
       "      <td>3.258097</td>\n",
       "      <td>0</td>\n",
       "      <td>0</td>\n",
       "      <td>2.070022</td>\n",
       "      <td>0</td>\n",
       "    </tr>\n",
       "    <tr>\n",
       "      <th>3</th>\n",
       "      <td>4</td>\n",
       "      <td>1</td>\n",
       "      <td>1</td>\n",
       "      <td>0</td>\n",
       "      <td>3.555348</td>\n",
       "      <td>1</td>\n",
       "      <td>0</td>\n",
       "      <td>3.972177</td>\n",
       "      <td>0</td>\n",
       "    </tr>\n",
       "    <tr>\n",
       "      <th>4</th>\n",
       "      <td>5</td>\n",
       "      <td>0</td>\n",
       "      <td>3</td>\n",
       "      <td>1</td>\n",
       "      <td>3.555348</td>\n",
       "      <td>0</td>\n",
       "      <td>0</td>\n",
       "      <td>2.085672</td>\n",
       "      <td>0</td>\n",
       "    </tr>\n",
       "  </tbody>\n",
       "</table>\n",
       "</div>"
      ],
      "text/plain": [
       "   PassengerId  Survived  Pclass  Sex       Age  SibSp  Parch      Fare  \\\n",
       "0            1         0       3    1  3.091042      1      0  1.981001   \n",
       "1            2         1       1    0  3.637586      1      0  4.266662   \n",
       "2            3         1       3    0  3.258097      0      0  2.070022   \n",
       "3            4         1       1    0  3.555348      1      0  3.972177   \n",
       "4            5         0       3    1  3.555348      0      0  2.085672   \n",
       "\n",
       "   Embarked  \n",
       "0         0  \n",
       "1         1  \n",
       "2         0  \n",
       "3         0  \n",
       "4         0  "
      ]
     },
     "execution_count": 95,
     "metadata": {},
     "output_type": "execute_result"
    }
   ],
   "source": [
    "train.head()"
   ]
  },
  {
   "cell_type": "markdown",
   "id": "variable-latest",
   "metadata": {
    "papermill": {
     "duration": 0.081655,
     "end_time": "2021-05-18T17:54:11.309027",
     "exception": false,
     "start_time": "2021-05-18T17:54:11.227372",
     "status": "completed"
    },
    "tags": []
   },
   "source": [
    "Test Data"
   ]
  },
  {
   "cell_type": "code",
   "execution_count": 96,
   "id": "similar-demand",
   "metadata": {
    "execution": {
     "iopub.execute_input": "2021-05-18T17:54:11.473953Z",
     "iopub.status.busy": "2021-05-18T17:54:11.473340Z",
     "iopub.status.idle": "2021-05-18T17:54:11.488021Z",
     "shell.execute_reply": "2021-05-18T17:54:11.488482Z"
    },
    "papermill": {
     "duration": 0.098124,
     "end_time": "2021-05-18T17:54:11.488636",
     "exception": false,
     "start_time": "2021-05-18T17:54:11.390512",
     "status": "completed"
    },
    "tags": []
   },
   "outputs": [
    {
     "data": {
      "text/html": [
       "<div>\n",
       "<style scoped>\n",
       "    .dataframe tbody tr th:only-of-type {\n",
       "        vertical-align: middle;\n",
       "    }\n",
       "\n",
       "    .dataframe tbody tr th {\n",
       "        vertical-align: top;\n",
       "    }\n",
       "\n",
       "    .dataframe thead th {\n",
       "        text-align: right;\n",
       "    }\n",
       "</style>\n",
       "<table border=\"1\" class=\"dataframe\">\n",
       "  <thead>\n",
       "    <tr style=\"text-align: right;\">\n",
       "      <th></th>\n",
       "      <th>PassengerId</th>\n",
       "      <th>Pclass</th>\n",
       "      <th>Name</th>\n",
       "      <th>Sex</th>\n",
       "      <th>Age</th>\n",
       "      <th>SibSp</th>\n",
       "      <th>Parch</th>\n",
       "      <th>Ticket</th>\n",
       "      <th>Fare</th>\n",
       "      <th>Cabin</th>\n",
       "      <th>Embarked</th>\n",
       "    </tr>\n",
       "  </thead>\n",
       "  <tbody>\n",
       "    <tr>\n",
       "      <th>0</th>\n",
       "      <td>892</td>\n",
       "      <td>3</td>\n",
       "      <td>Kelly, Mr. James</td>\n",
       "      <td>male</td>\n",
       "      <td>34.5</td>\n",
       "      <td>0</td>\n",
       "      <td>0</td>\n",
       "      <td>330911</td>\n",
       "      <td>7.8292</td>\n",
       "      <td>NaN</td>\n",
       "      <td>Q</td>\n",
       "    </tr>\n",
       "    <tr>\n",
       "      <th>1</th>\n",
       "      <td>893</td>\n",
       "      <td>3</td>\n",
       "      <td>Wilkes, Mrs. James (Ellen Needs)</td>\n",
       "      <td>female</td>\n",
       "      <td>47.0</td>\n",
       "      <td>1</td>\n",
       "      <td>0</td>\n",
       "      <td>363272</td>\n",
       "      <td>7.0000</td>\n",
       "      <td>NaN</td>\n",
       "      <td>S</td>\n",
       "    </tr>\n",
       "    <tr>\n",
       "      <th>2</th>\n",
       "      <td>894</td>\n",
       "      <td>2</td>\n",
       "      <td>Myles, Mr. Thomas Francis</td>\n",
       "      <td>male</td>\n",
       "      <td>62.0</td>\n",
       "      <td>0</td>\n",
       "      <td>0</td>\n",
       "      <td>240276</td>\n",
       "      <td>9.6875</td>\n",
       "      <td>NaN</td>\n",
       "      <td>Q</td>\n",
       "    </tr>\n",
       "    <tr>\n",
       "      <th>3</th>\n",
       "      <td>895</td>\n",
       "      <td>3</td>\n",
       "      <td>Wirz, Mr. Albert</td>\n",
       "      <td>male</td>\n",
       "      <td>27.0</td>\n",
       "      <td>0</td>\n",
       "      <td>0</td>\n",
       "      <td>315154</td>\n",
       "      <td>8.6625</td>\n",
       "      <td>NaN</td>\n",
       "      <td>S</td>\n",
       "    </tr>\n",
       "    <tr>\n",
       "      <th>4</th>\n",
       "      <td>896</td>\n",
       "      <td>3</td>\n",
       "      <td>Hirvonen, Mrs. Alexander (Helga E Lindqvist)</td>\n",
       "      <td>female</td>\n",
       "      <td>22.0</td>\n",
       "      <td>1</td>\n",
       "      <td>1</td>\n",
       "      <td>3101298</td>\n",
       "      <td>12.2875</td>\n",
       "      <td>NaN</td>\n",
       "      <td>S</td>\n",
       "    </tr>\n",
       "  </tbody>\n",
       "</table>\n",
       "</div>"
      ],
      "text/plain": [
       "   PassengerId  Pclass                                          Name     Sex  \\\n",
       "0          892       3                              Kelly, Mr. James    male   \n",
       "1          893       3              Wilkes, Mrs. James (Ellen Needs)  female   \n",
       "2          894       2                     Myles, Mr. Thomas Francis    male   \n",
       "3          895       3                              Wirz, Mr. Albert    male   \n",
       "4          896       3  Hirvonen, Mrs. Alexander (Helga E Lindqvist)  female   \n",
       "\n",
       "    Age  SibSp  Parch   Ticket     Fare Cabin Embarked  \n",
       "0  34.5      0      0   330911   7.8292   NaN        Q  \n",
       "1  47.0      1      0   363272   7.0000   NaN        S  \n",
       "2  62.0      0      0   240276   9.6875   NaN        Q  \n",
       "3  27.0      0      0   315154   8.6625   NaN        S  \n",
       "4  22.0      1      1  3101298  12.2875   NaN        S  "
      ]
     },
     "execution_count": 96,
     "metadata": {},
     "output_type": "execute_result"
    }
   ],
   "source": [
    "test.head()"
   ]
  },
  {
   "cell_type": "code",
   "execution_count": 97,
   "id": "palestinian-deficit",
   "metadata": {
    "execution": {
     "iopub.execute_input": "2021-05-18T17:54:11.656381Z",
     "iopub.status.busy": "2021-05-18T17:54:11.655714Z",
     "iopub.status.idle": "2021-05-18T17:54:11.663464Z",
     "shell.execute_reply": "2021-05-18T17:54:11.662998Z"
    },
    "papermill": {
     "duration": 0.092995,
     "end_time": "2021-05-18T17:54:11.663606",
     "exception": false,
     "start_time": "2021-05-18T17:54:11.570611",
     "status": "completed"
    },
    "tags": []
   },
   "outputs": [
    {
     "data": {
      "text/plain": [
       "PassengerId      0\n",
       "Pclass           0\n",
       "Name             0\n",
       "Sex              0\n",
       "Age             86\n",
       "SibSp            0\n",
       "Parch            0\n",
       "Ticket           0\n",
       "Fare             1\n",
       "Cabin          327\n",
       "Embarked         0\n",
       "dtype: int64"
      ]
     },
     "execution_count": 97,
     "metadata": {},
     "output_type": "execute_result"
    }
   ],
   "source": [
    "test.isna().sum()"
   ]
  },
  {
   "cell_type": "code",
   "execution_count": 98,
   "id": "collective-medicine",
   "metadata": {
    "execution": {
     "iopub.execute_input": "2021-05-18T17:54:11.837076Z",
     "iopub.status.busy": "2021-05-18T17:54:11.836386Z",
     "iopub.status.idle": "2021-05-18T17:54:11.839045Z",
     "shell.execute_reply": "2021-05-18T17:54:11.838561Z"
    },
    "papermill": {
     "duration": 0.092282,
     "end_time": "2021-05-18T17:54:11.839178",
     "exception": false,
     "start_time": "2021-05-18T17:54:11.746896",
     "status": "completed"
    },
    "tags": []
   },
   "outputs": [],
   "source": [
    "test.drop(['Name', 'Ticket', 'Cabin'], axis = 1, inplace = True)"
   ]
  },
  {
   "cell_type": "code",
   "execution_count": 99,
   "id": "behavioral-october",
   "metadata": {
    "execution": {
     "iopub.execute_input": "2021-05-18T17:54:12.010868Z",
     "iopub.status.busy": "2021-05-18T17:54:12.010258Z",
     "iopub.status.idle": "2021-05-18T17:54:12.012944Z",
     "shell.execute_reply": "2021-05-18T17:54:12.012401Z"
    },
    "papermill": {
     "duration": 0.09151,
     "end_time": "2021-05-18T17:54:12.013079",
     "exception": false,
     "start_time": "2021-05-18T17:54:11.921569",
     "status": "completed"
    },
    "tags": []
   },
   "outputs": [],
   "source": [
    "test['Fare'] = test['Fare'].replace(0, test['Fare'].mean())"
   ]
  },
  {
   "cell_type": "code",
   "execution_count": 100,
   "id": "institutional-export",
   "metadata": {
    "execution": {
     "iopub.execute_input": "2021-05-18T17:54:12.185536Z",
     "iopub.status.busy": "2021-05-18T17:54:12.184917Z",
     "iopub.status.idle": "2021-05-18T17:54:12.189053Z",
     "shell.execute_reply": "2021-05-18T17:54:12.188546Z"
    },
    "papermill": {
     "duration": 0.09348,
     "end_time": "2021-05-18T17:54:12.189184",
     "exception": false,
     "start_time": "2021-05-18T17:54:12.095704",
     "status": "completed"
    },
    "tags": []
   },
   "outputs": [],
   "source": [
    "test['Age'].fillna(test['Age'].mean(), inplace = True)"
   ]
  },
  {
   "cell_type": "code",
   "execution_count": 101,
   "id": "chronic-gossip",
   "metadata": {
    "execution": {
     "iopub.execute_input": "2021-05-18T17:54:12.363700Z",
     "iopub.status.busy": "2021-05-18T17:54:12.363085Z",
     "iopub.status.idle": "2021-05-18T17:54:12.364769Z",
     "shell.execute_reply": "2021-05-18T17:54:12.365223Z"
    },
    "papermill": {
     "duration": 0.091624,
     "end_time": "2021-05-18T17:54:12.365385",
     "exception": false,
     "start_time": "2021-05-18T17:54:12.273761",
     "status": "completed"
    },
    "tags": []
   },
   "outputs": [],
   "source": [
    "test['Embarked'].fillna(test['Embarked'].mode()[0], inplace = True)"
   ]
  },
  {
   "cell_type": "code",
   "execution_count": 102,
   "id": "forty-right",
   "metadata": {
    "execution": {
     "iopub.execute_input": "2021-05-18T17:54:12.537386Z",
     "iopub.status.busy": "2021-05-18T17:54:12.536746Z",
     "iopub.status.idle": "2021-05-18T17:54:12.544027Z",
     "shell.execute_reply": "2021-05-18T17:54:12.544437Z"
    },
    "papermill": {
     "duration": 0.094342,
     "end_time": "2021-05-18T17:54:12.544640",
     "exception": false,
     "start_time": "2021-05-18T17:54:12.450298",
     "status": "completed"
    },
    "tags": []
   },
   "outputs": [
    {
     "data": {
      "text/plain": [
       "PassengerId    0\n",
       "Pclass         0\n",
       "Sex            0\n",
       "Age            0\n",
       "SibSp          0\n",
       "Parch          0\n",
       "Fare           1\n",
       "Embarked       0\n",
       "dtype: int64"
      ]
     },
     "execution_count": 102,
     "metadata": {},
     "output_type": "execute_result"
    }
   ],
   "source": [
    "test.isna().sum()"
   ]
  },
  {
   "cell_type": "code",
   "execution_count": 103,
   "id": "graphic-maldives",
   "metadata": {
    "execution": {
     "iopub.execute_input": "2021-05-18T17:54:12.718994Z",
     "iopub.status.busy": "2021-05-18T17:54:12.718276Z",
     "iopub.status.idle": "2021-05-18T17:54:12.720892Z",
     "shell.execute_reply": "2021-05-18T17:54:12.720408Z"
    },
    "papermill": {
     "duration": 0.092112,
     "end_time": "2021-05-18T17:54:12.721025",
     "exception": false,
     "start_time": "2021-05-18T17:54:12.628913",
     "status": "completed"
    },
    "tags": []
   },
   "outputs": [],
   "source": [
    "test['Fare'].fillna(test['Fare'].mean(), inplace = True)"
   ]
  },
  {
   "cell_type": "code",
   "execution_count": 104,
   "id": "handy-chick",
   "metadata": {
    "execution": {
     "iopub.execute_input": "2021-05-18T17:54:12.895872Z",
     "iopub.status.busy": "2021-05-18T17:54:12.895123Z",
     "iopub.status.idle": "2021-05-18T17:54:12.898011Z",
     "shell.execute_reply": "2021-05-18T17:54:12.897379Z"
    },
    "papermill": {
     "duration": 0.093171,
     "end_time": "2021-05-18T17:54:12.898145",
     "exception": false,
     "start_time": "2021-05-18T17:54:12.804974",
     "status": "completed"
    },
    "tags": []
   },
   "outputs": [],
   "source": [
    "test['Embarked'] = test['Embarked'].map({'S' : 0, 'C': 1, 'Q': 2})"
   ]
  },
  {
   "cell_type": "code",
   "execution_count": 105,
   "id": "aggregate-patch",
   "metadata": {
    "execution": {
     "iopub.execute_input": "2021-05-18T17:54:13.071738Z",
     "iopub.status.busy": "2021-05-18T17:54:13.071077Z",
     "iopub.status.idle": "2021-05-18T17:54:13.073852Z",
     "shell.execute_reply": "2021-05-18T17:54:13.073365Z"
    },
    "papermill": {
     "duration": 0.092064,
     "end_time": "2021-05-18T17:54:13.073991",
     "exception": false,
     "start_time": "2021-05-18T17:54:12.981927",
     "status": "completed"
    },
    "tags": []
   },
   "outputs": [],
   "source": [
    "test['Sex'] = test['Sex'].map({'male' : 1, 'female': 0})"
   ]
  },
  {
   "cell_type": "code",
   "execution_count": 106,
   "id": "hearing-respondent",
   "metadata": {
    "execution": {
     "iopub.execute_input": "2021-05-18T17:54:13.297255Z",
     "iopub.status.busy": "2021-05-18T17:54:13.296386Z",
     "iopub.status.idle": "2021-05-18T17:54:13.300599Z",
     "shell.execute_reply": "2021-05-18T17:54:13.300101Z"
    },
    "papermill": {
     "duration": 0.099139,
     "end_time": "2021-05-18T17:54:13.300724",
     "exception": false,
     "start_time": "2021-05-18T17:54:13.201585",
     "status": "completed"
    },
    "tags": []
   },
   "outputs": [
    {
     "data": {
      "text/html": [
       "<div>\n",
       "<style scoped>\n",
       "    .dataframe tbody tr th:only-of-type {\n",
       "        vertical-align: middle;\n",
       "    }\n",
       "\n",
       "    .dataframe tbody tr th {\n",
       "        vertical-align: top;\n",
       "    }\n",
       "\n",
       "    .dataframe thead th {\n",
       "        text-align: right;\n",
       "    }\n",
       "</style>\n",
       "<table border=\"1\" class=\"dataframe\">\n",
       "  <thead>\n",
       "    <tr style=\"text-align: right;\">\n",
       "      <th></th>\n",
       "      <th>PassengerId</th>\n",
       "      <th>Pclass</th>\n",
       "      <th>Sex</th>\n",
       "      <th>Age</th>\n",
       "      <th>SibSp</th>\n",
       "      <th>Parch</th>\n",
       "      <th>Fare</th>\n",
       "      <th>Embarked</th>\n",
       "    </tr>\n",
       "  </thead>\n",
       "  <tbody>\n",
       "    <tr>\n",
       "      <th>0</th>\n",
       "      <td>892</td>\n",
       "      <td>3</td>\n",
       "      <td>1</td>\n",
       "      <td>34.5</td>\n",
       "      <td>0</td>\n",
       "      <td>0</td>\n",
       "      <td>7.8292</td>\n",
       "      <td>2</td>\n",
       "    </tr>\n",
       "    <tr>\n",
       "      <th>1</th>\n",
       "      <td>893</td>\n",
       "      <td>3</td>\n",
       "      <td>0</td>\n",
       "      <td>47.0</td>\n",
       "      <td>1</td>\n",
       "      <td>0</td>\n",
       "      <td>7.0000</td>\n",
       "      <td>0</td>\n",
       "    </tr>\n",
       "    <tr>\n",
       "      <th>2</th>\n",
       "      <td>894</td>\n",
       "      <td>2</td>\n",
       "      <td>1</td>\n",
       "      <td>62.0</td>\n",
       "      <td>0</td>\n",
       "      <td>0</td>\n",
       "      <td>9.6875</td>\n",
       "      <td>2</td>\n",
       "    </tr>\n",
       "    <tr>\n",
       "      <th>3</th>\n",
       "      <td>895</td>\n",
       "      <td>3</td>\n",
       "      <td>1</td>\n",
       "      <td>27.0</td>\n",
       "      <td>0</td>\n",
       "      <td>0</td>\n",
       "      <td>8.6625</td>\n",
       "      <td>0</td>\n",
       "    </tr>\n",
       "    <tr>\n",
       "      <th>4</th>\n",
       "      <td>896</td>\n",
       "      <td>3</td>\n",
       "      <td>0</td>\n",
       "      <td>22.0</td>\n",
       "      <td>1</td>\n",
       "      <td>1</td>\n",
       "      <td>12.2875</td>\n",
       "      <td>0</td>\n",
       "    </tr>\n",
       "  </tbody>\n",
       "</table>\n",
       "</div>"
      ],
      "text/plain": [
       "   PassengerId  Pclass  Sex   Age  SibSp  Parch     Fare  Embarked\n",
       "0          892       3    1  34.5      0      0   7.8292         2\n",
       "1          893       3    0  47.0      1      0   7.0000         0\n",
       "2          894       2    1  62.0      0      0   9.6875         2\n",
       "3          895       3    1  27.0      0      0   8.6625         0\n",
       "4          896       3    0  22.0      1      1  12.2875         0"
      ]
     },
     "execution_count": 106,
     "metadata": {},
     "output_type": "execute_result"
    }
   ],
   "source": [
    "test.head()"
   ]
  },
  {
   "cell_type": "code",
   "execution_count": 107,
   "id": "received-alloy",
   "metadata": {
    "execution": {
     "iopub.execute_input": "2021-05-18T17:54:13.473479Z",
     "iopub.status.busy": "2021-05-18T17:54:13.472525Z",
     "iopub.status.idle": "2021-05-18T17:54:13.477738Z",
     "shell.execute_reply": "2021-05-18T17:54:13.478279Z"
    },
    "papermill": {
     "duration": 0.093729,
     "end_time": "2021-05-18T17:54:13.478433",
     "exception": false,
     "start_time": "2021-05-18T17:54:13.384704",
     "status": "completed"
    },
    "tags": []
   },
   "outputs": [],
   "source": [
    "test['Age'] = np.log(test['Age'])\n",
    "test['Fare'] = np.log(test['Fare'])"
   ]
  },
  {
   "cell_type": "code",
   "execution_count": 108,
   "id": "sonic-feature",
   "metadata": {
    "execution": {
     "iopub.execute_input": "2021-05-18T17:54:13.668288Z",
     "iopub.status.busy": "2021-05-18T17:54:13.667632Z",
     "iopub.status.idle": "2021-05-18T17:54:13.671167Z",
     "shell.execute_reply": "2021-05-18T17:54:13.671689Z"
    },
    "papermill": {
     "duration": 0.10686,
     "end_time": "2021-05-18T17:54:13.671870",
     "exception": false,
     "start_time": "2021-05-18T17:54:13.565010",
     "status": "completed"
    },
    "tags": []
   },
   "outputs": [
    {
     "data": {
      "text/html": [
       "<div>\n",
       "<style scoped>\n",
       "    .dataframe tbody tr th:only-of-type {\n",
       "        vertical-align: middle;\n",
       "    }\n",
       "\n",
       "    .dataframe tbody tr th {\n",
       "        vertical-align: top;\n",
       "    }\n",
       "\n",
       "    .dataframe thead th {\n",
       "        text-align: right;\n",
       "    }\n",
       "</style>\n",
       "<table border=\"1\" class=\"dataframe\">\n",
       "  <thead>\n",
       "    <tr style=\"text-align: right;\">\n",
       "      <th></th>\n",
       "      <th>PassengerId</th>\n",
       "      <th>Survived</th>\n",
       "      <th>Pclass</th>\n",
       "      <th>Sex</th>\n",
       "      <th>Age</th>\n",
       "      <th>SibSp</th>\n",
       "      <th>Parch</th>\n",
       "      <th>Fare</th>\n",
       "      <th>Embarked</th>\n",
       "    </tr>\n",
       "  </thead>\n",
       "  <tbody>\n",
       "    <tr>\n",
       "      <th>0</th>\n",
       "      <td>1</td>\n",
       "      <td>0</td>\n",
       "      <td>3</td>\n",
       "      <td>1</td>\n",
       "      <td>3.091042</td>\n",
       "      <td>1</td>\n",
       "      <td>0</td>\n",
       "      <td>1.981001</td>\n",
       "      <td>0</td>\n",
       "    </tr>\n",
       "    <tr>\n",
       "      <th>1</th>\n",
       "      <td>2</td>\n",
       "      <td>1</td>\n",
       "      <td>1</td>\n",
       "      <td>0</td>\n",
       "      <td>3.637586</td>\n",
       "      <td>1</td>\n",
       "      <td>0</td>\n",
       "      <td>4.266662</td>\n",
       "      <td>1</td>\n",
       "    </tr>\n",
       "    <tr>\n",
       "      <th>2</th>\n",
       "      <td>3</td>\n",
       "      <td>1</td>\n",
       "      <td>3</td>\n",
       "      <td>0</td>\n",
       "      <td>3.258097</td>\n",
       "      <td>0</td>\n",
       "      <td>0</td>\n",
       "      <td>2.070022</td>\n",
       "      <td>0</td>\n",
       "    </tr>\n",
       "    <tr>\n",
       "      <th>3</th>\n",
       "      <td>4</td>\n",
       "      <td>1</td>\n",
       "      <td>1</td>\n",
       "      <td>0</td>\n",
       "      <td>3.555348</td>\n",
       "      <td>1</td>\n",
       "      <td>0</td>\n",
       "      <td>3.972177</td>\n",
       "      <td>0</td>\n",
       "    </tr>\n",
       "    <tr>\n",
       "      <th>4</th>\n",
       "      <td>5</td>\n",
       "      <td>0</td>\n",
       "      <td>3</td>\n",
       "      <td>1</td>\n",
       "      <td>3.555348</td>\n",
       "      <td>0</td>\n",
       "      <td>0</td>\n",
       "      <td>2.085672</td>\n",
       "      <td>0</td>\n",
       "    </tr>\n",
       "    <tr>\n",
       "      <th>...</th>\n",
       "      <td>...</td>\n",
       "      <td>...</td>\n",
       "      <td>...</td>\n",
       "      <td>...</td>\n",
       "      <td>...</td>\n",
       "      <td>...</td>\n",
       "      <td>...</td>\n",
       "      <td>...</td>\n",
       "      <td>...</td>\n",
       "    </tr>\n",
       "    <tr>\n",
       "      <th>886</th>\n",
       "      <td>887</td>\n",
       "      <td>0</td>\n",
       "      <td>2</td>\n",
       "      <td>1</td>\n",
       "      <td>3.295837</td>\n",
       "      <td>0</td>\n",
       "      <td>0</td>\n",
       "      <td>2.564949</td>\n",
       "      <td>0</td>\n",
       "    </tr>\n",
       "    <tr>\n",
       "      <th>887</th>\n",
       "      <td>888</td>\n",
       "      <td>1</td>\n",
       "      <td>1</td>\n",
       "      <td>0</td>\n",
       "      <td>2.944439</td>\n",
       "      <td>0</td>\n",
       "      <td>0</td>\n",
       "      <td>3.401197</td>\n",
       "      <td>0</td>\n",
       "    </tr>\n",
       "    <tr>\n",
       "      <th>888</th>\n",
       "      <td>889</td>\n",
       "      <td>0</td>\n",
       "      <td>3</td>\n",
       "      <td>0</td>\n",
       "      <td>3.391117</td>\n",
       "      <td>1</td>\n",
       "      <td>2</td>\n",
       "      <td>3.154870</td>\n",
       "      <td>0</td>\n",
       "    </tr>\n",
       "    <tr>\n",
       "      <th>889</th>\n",
       "      <td>890</td>\n",
       "      <td>1</td>\n",
       "      <td>1</td>\n",
       "      <td>1</td>\n",
       "      <td>3.258097</td>\n",
       "      <td>0</td>\n",
       "      <td>0</td>\n",
       "      <td>3.401197</td>\n",
       "      <td>1</td>\n",
       "    </tr>\n",
       "    <tr>\n",
       "      <th>890</th>\n",
       "      <td>891</td>\n",
       "      <td>0</td>\n",
       "      <td>3</td>\n",
       "      <td>1</td>\n",
       "      <td>3.465736</td>\n",
       "      <td>0</td>\n",
       "      <td>0</td>\n",
       "      <td>2.047693</td>\n",
       "      <td>2</td>\n",
       "    </tr>\n",
       "  </tbody>\n",
       "</table>\n",
       "<p>891 rows × 9 columns</p>\n",
       "</div>"
      ],
      "text/plain": [
       "     PassengerId  Survived  Pclass  Sex       Age  SibSp  Parch      Fare  \\\n",
       "0              1         0       3    1  3.091042      1      0  1.981001   \n",
       "1              2         1       1    0  3.637586      1      0  4.266662   \n",
       "2              3         1       3    0  3.258097      0      0  2.070022   \n",
       "3              4         1       1    0  3.555348      1      0  3.972177   \n",
       "4              5         0       3    1  3.555348      0      0  2.085672   \n",
       "..           ...       ...     ...  ...       ...    ...    ...       ...   \n",
       "886          887         0       2    1  3.295837      0      0  2.564949   \n",
       "887          888         1       1    0  2.944439      0      0  3.401197   \n",
       "888          889         0       3    0  3.391117      1      2  3.154870   \n",
       "889          890         1       1    1  3.258097      0      0  3.401197   \n",
       "890          891         0       3    1  3.465736      0      0  2.047693   \n",
       "\n",
       "     Embarked  \n",
       "0           0  \n",
       "1           1  \n",
       "2           0  \n",
       "3           0  \n",
       "4           0  \n",
       "..        ...  \n",
       "886         0  \n",
       "887         0  \n",
       "888         0  \n",
       "889         1  \n",
       "890         2  \n",
       "\n",
       "[891 rows x 9 columns]"
      ]
     },
     "execution_count": 108,
     "metadata": {},
     "output_type": "execute_result"
    }
   ],
   "source": [
    "train"
   ]
  },
  {
   "cell_type": "markdown",
   "id": "finite-letters",
   "metadata": {
    "papermill": {
     "duration": 0.085288,
     "end_time": "2021-05-18T17:54:13.843470",
     "exception": false,
     "start_time": "2021-05-18T17:54:13.758182",
     "status": "completed"
    },
    "tags": []
   },
   "source": [
    "**Model Building**"
   ]
  },
  {
   "cell_type": "code",
   "execution_count": 109,
   "id": "instrumental-virgin",
   "metadata": {
    "execution": {
     "iopub.execute_input": "2021-05-18T17:54:14.023330Z",
     "iopub.status.busy": "2021-05-18T17:54:14.022681Z",
     "iopub.status.idle": "2021-05-18T17:54:14.024416Z",
     "shell.execute_reply": "2021-05-18T17:54:14.024873Z"
    },
    "papermill": {
     "duration": 0.095752,
     "end_time": "2021-05-18T17:54:14.025043",
     "exception": false,
     "start_time": "2021-05-18T17:54:13.929291",
     "status": "completed"
    },
    "tags": []
   },
   "outputs": [],
   "source": [
    "X = train.drop('Survived', axis=1)\n",
    "y = train['Survived']"
   ]
  },
  {
   "cell_type": "code",
   "execution_count": 110,
   "id": "serial-snowboard",
   "metadata": {
    "execution": {
     "iopub.execute_input": "2021-05-18T17:54:14.201127Z",
     "iopub.status.busy": "2021-05-18T17:54:14.200509Z",
     "iopub.status.idle": "2021-05-18T17:54:14.400248Z",
     "shell.execute_reply": "2021-05-18T17:54:14.399638Z"
    },
    "papermill": {
     "duration": 0.288715,
     "end_time": "2021-05-18T17:54:14.400392",
     "exception": false,
     "start_time": "2021-05-18T17:54:14.111677",
     "status": "completed"
    },
    "tags": []
   },
   "outputs": [],
   "source": [
    "from sklearn.model_selection import train_test_split\n",
    "\n",
    "X_train, X_test, y_train, y_test = train_test_split(X,y,test_size=0.30, random_state=0)"
   ]
  },
  {
   "cell_type": "markdown",
   "id": "fantastic-abortion",
   "metadata": {
    "papermill": {
     "duration": 0.086129,
     "end_time": "2021-05-18T17:54:14.573615",
     "exception": false,
     "start_time": "2021-05-18T17:54:14.487486",
     "status": "completed"
    },
    "tags": []
   },
   "source": [
    "**Logistic Regression**"
   ]
  },
  {
   "cell_type": "code",
   "execution_count": 111,
   "id": "handled-arena",
   "metadata": {
    "execution": {
     "iopub.execute_input": "2021-05-18T17:54:14.753556Z",
     "iopub.status.busy": "2021-05-18T17:54:14.752932Z",
     "iopub.status.idle": "2021-05-18T17:54:15.011078Z",
     "shell.execute_reply": "2021-05-18T17:54:15.011517Z"
    },
    "papermill": {
     "duration": 0.349171,
     "end_time": "2021-05-18T17:54:15.011685",
     "exception": false,
     "start_time": "2021-05-18T17:54:14.662514",
     "status": "completed"
    },
    "tags": []
   },
   "outputs": [
    {
     "data": {
      "text/plain": [
       "LogisticRegression()"
      ]
     },
     "execution_count": 111,
     "metadata": {},
     "output_type": "execute_result"
    }
   ],
   "source": [
    "from sklearn.linear_model import LogisticRegression\n",
    "\n",
    "lr = LogisticRegression()\n",
    "lr.fit(X_train, y_train)"
   ]
  },
  {
   "cell_type": "code",
   "execution_count": 112,
   "id": "operating-spanish",
   "metadata": {
    "execution": {
     "iopub.execute_input": "2021-05-18T17:54:15.194436Z",
     "iopub.status.busy": "2021-05-18T17:54:15.193746Z",
     "iopub.status.idle": "2021-05-18T17:54:15.212869Z",
     "shell.execute_reply": "2021-05-18T17:54:15.212143Z"
    },
    "papermill": {
     "duration": 0.114212,
     "end_time": "2021-05-18T17:54:15.213054",
     "exception": false,
     "start_time": "2021-05-18T17:54:15.098842",
     "status": "completed"
    },
    "tags": []
   },
   "outputs": [
    {
     "name": "stdout",
     "output_type": "stream",
     "text": [
      "Training Accuracy is 0.7945425361155698\n",
      "\n",
      "Test Accuracy is 0.8059701492537313\n",
      "\n",
      " Confusion Matrix \n",
      " [[146  22]\n",
      " [ 30  70]]\n",
      "\n",
      " Classification Report \n",
      "               precision    recall  f1-score   support\n",
      "\n",
      "           0       0.83      0.87      0.85       168\n",
      "           1       0.76      0.70      0.73       100\n",
      "\n",
      "    accuracy                           0.81       268\n",
      "   macro avg       0.80      0.78      0.79       268\n",
      "weighted avg       0.80      0.81      0.80       268\n",
      "\n"
     ]
    }
   ],
   "source": [
    "# accuracy score, confusion matrix and classification report of logistic regression\n",
    "\n",
    "from sklearn.metrics import accuracy_score, confusion_matrix, classification_report\n",
    "\n",
    "lr_acc = accuracy_score(y_test, lr.predict(X_test))\n",
    "\n",
    "print(f\"Training Accuracy is {accuracy_score(y_train, lr.predict(X_train))}\\n\")\n",
    "print(f\"Test Accuracy is {lr_acc}\")\n",
    "\n",
    "print(f\"\\n Confusion Matrix \\n {confusion_matrix(y_test, lr.predict(X_test))}\\n\")\n",
    "print(f\" Classification Report \\n {classification_report(y_test, lr.predict(X_test))}\")"
   ]
  },
  {
   "cell_type": "markdown",
   "id": "collaborative-plasma",
   "metadata": {
    "papermill": {
     "duration": 0.086895,
     "end_time": "2021-05-18T17:54:15.388189",
     "exception": false,
     "start_time": "2021-05-18T17:54:15.301294",
     "status": "completed"
    },
    "tags": []
   },
   "source": [
    "**KNN**"
   ]
  },
  {
   "cell_type": "code",
   "execution_count": 125,
   "id": "copyrighted-sight",
   "metadata": {
    "execution": {
     "iopub.execute_input": "2021-05-18T17:54:15.568907Z",
     "iopub.status.busy": "2021-05-18T17:54:15.568223Z",
     "iopub.status.idle": "2021-05-18T17:54:15.714063Z",
     "shell.execute_reply": "2021-05-18T17:54:15.714503Z"
    },
    "papermill": {
     "duration": 0.238977,
     "end_time": "2021-05-18T17:54:15.714670",
     "exception": false,
     "start_time": "2021-05-18T17:54:15.475693",
     "status": "completed"
    },
    "tags": []
   },
   "outputs": [
    {
     "name": "stdout",
     "output_type": "stream",
     "text": [
      "Training Accuracy of KNN is 0.7287319422150883\n",
      "\n",
      "Test Accuracy of KNN is 0.5410447761194029 \n",
      "\n",
      "Confusion Matrix :- \n",
      "[[117  51]\n",
      " [ 72  28]]\n",
      "\n",
      "Classification Report :- \n",
      "               precision    recall  f1-score   support\n",
      "\n",
      "           0       0.62      0.70      0.66       168\n",
      "           1       0.35      0.28      0.31       100\n",
      "\n",
      "    accuracy                           0.54       268\n",
      "   macro avg       0.49      0.49      0.48       268\n",
      "weighted avg       0.52      0.54      0.53       268\n",
      "\n"
     ]
    }
   ],
   "source": [
    "from sklearn.neighbors import KNeighborsClassifier\n",
    "\n",
    "knn = KNeighborsClassifier()\n",
    "knn.fit(X_train, y_train)\n",
    "\n",
    "# accuracy score, confusion matrix and classification report of knn\n",
    "\n",
    "knn_acc = accuracy_score(y_test, knn.predict(X_test))\n",
    "\n",
    "print(f\"Training Accuracy of KNN is {accuracy_score(y_train, knn.predict(X_train))}\\n\")\n",
    "print(f\"Test Accuracy of KNN is {knn_acc} \\n\")\n",
    "\n",
    "print(f\"Confusion Matrix :- \\n{confusion_matrix(y_test, knn.predict(X_test))}\\n\")\n",
    "print(f\"Classification Report :- \\n {classification_report(y_test, knn.predict(X_test))}\")"
   ]
  },
  {
   "cell_type": "markdown",
   "id": "julian-trust",
   "metadata": {
    "papermill": {
     "duration": 0.08775,
     "end_time": "2021-05-18T17:54:15.890348",
     "exception": false,
     "start_time": "2021-05-18T17:54:15.802598",
     "status": "completed"
    },
    "tags": []
   },
   "source": [
    "**Decison Tree Classifier**"
   ]
  },
  {
   "cell_type": "code",
   "execution_count": 114,
   "id": "willing-drilling",
   "metadata": {
    "execution": {
     "iopub.execute_input": "2021-05-18T17:54:16.069063Z",
     "iopub.status.busy": "2021-05-18T17:54:16.068454Z",
     "iopub.status.idle": "2021-05-18T17:54:16.126386Z",
     "shell.execute_reply": "2021-05-18T17:54:16.126887Z"
    },
    "papermill": {
     "duration": 0.148975,
     "end_time": "2021-05-18T17:54:16.127053",
     "exception": false,
     "start_time": "2021-05-18T17:54:15.978078",
     "status": "completed"
    },
    "tags": []
   },
   "outputs": [
    {
     "name": "stdout",
     "output_type": "stream",
     "text": [
      "Training Accuracy of Decision Tree Classifier is 1.0\n",
      "Test Accuracy of Decision Tree Classifier is 0.7238805970149254 \n",
      "\n",
      "Confusion Matrix :- \n",
      "[[130  38]\n",
      " [ 36  64]]\n",
      "\n",
      "Classification Report :- \n",
      "               precision    recall  f1-score   support\n",
      "\n",
      "           0       0.78      0.77      0.78       168\n",
      "           1       0.63      0.64      0.63       100\n",
      "\n",
      "    accuracy                           0.72       268\n",
      "   macro avg       0.71      0.71      0.71       268\n",
      "weighted avg       0.73      0.72      0.72       268\n",
      "\n"
     ]
    }
   ],
   "source": [
    "from sklearn.tree import DecisionTreeClassifier\n",
    "\n",
    "dtc = DecisionTreeClassifier()\n",
    "dtc.fit(X_train, y_train)\n",
    "\n",
    "# accuracy score, confusion matrix and classification report of decision tree\n",
    "\n",
    "dtc_acc = accuracy_score(y_test, dtc.predict(X_test))\n",
    "\n",
    "print(f\"Training Accuracy of Decision Tree Classifier is {accuracy_score(y_train, dtc.predict(X_train))}\")\n",
    "print(f\"Test Accuracy of Decision Tree Classifier is {dtc_acc} \\n\")\n",
    "\n",
    "print(f\"Confusion Matrix :- \\n{confusion_matrix(y_test, dtc.predict(X_test))}\\n\")\n",
    "print(f\"Classification Report :- \\n {classification_report(y_test, dtc.predict(X_test))}\")"
   ]
  },
  {
   "cell_type": "markdown",
   "id": "possible-hawaiian",
   "metadata": {
    "papermill": {
     "duration": 0.088017,
     "end_time": "2021-05-18T17:54:16.303928",
     "exception": false,
     "start_time": "2021-05-18T17:54:16.215911",
     "status": "completed"
    },
    "tags": []
   },
   "source": [
    "**Random Forest Classifier**"
   ]
  },
  {
   "cell_type": "code",
   "execution_count": 115,
   "id": "suburban-welding",
   "metadata": {
    "execution": {
     "iopub.execute_input": "2021-05-18T17:54:16.485984Z",
     "iopub.status.busy": "2021-05-18T17:54:16.485386Z",
     "iopub.status.idle": "2021-05-18T17:54:16.803232Z",
     "shell.execute_reply": "2021-05-18T17:54:16.802722Z"
    },
    "papermill": {
     "duration": 0.411,
     "end_time": "2021-05-18T17:54:16.803372",
     "exception": false,
     "start_time": "2021-05-18T17:54:16.392372",
     "status": "completed"
    },
    "tags": []
   },
   "outputs": [
    {
     "name": "stdout",
     "output_type": "stream",
     "text": [
      "Training Accuracy of Random Forest Classifier is 1.0\n",
      "Test Accuracy of Random Forest Classifier is 0.8171641791044776 \n",
      "\n",
      "Confusion Matrix :- \n",
      "[[146  22]\n",
      " [ 27  73]]\n",
      "\n",
      "Classification Report :- \n",
      "               precision    recall  f1-score   support\n",
      "\n",
      "           0       0.84      0.87      0.86       168\n",
      "           1       0.77      0.73      0.75       100\n",
      "\n",
      "    accuracy                           0.82       268\n",
      "   macro avg       0.81      0.80      0.80       268\n",
      "weighted avg       0.82      0.82      0.82       268\n",
      "\n"
     ]
    }
   ],
   "source": [
    "from sklearn.ensemble import RandomForestClassifier\n",
    "\n",
    "rf = RandomForestClassifier()\n",
    "rf.fit(X_train, y_train)\n",
    "\n",
    "# accuracy score, confusion matrix and classification report of random forest\n",
    "\n",
    "rf_acc = accuracy_score(y_test, rf.predict(X_test))\n",
    "\n",
    "print(f\"Training Accuracy of Random Forest Classifier is {accuracy_score(y_train, rf.predict(X_train))}\")\n",
    "print(f\"Test Accuracy of Random Forest Classifier is {rf_acc} \\n\")\n",
    "\n",
    "print(f\"Confusion Matrix :- \\n{confusion_matrix(y_test, rf.predict(X_test))}\\n\")\n",
    "print(f\"Classification Report :- \\n {classification_report(y_test, rf.predict(X_test))}\")"
   ]
  },
  {
   "cell_type": "code",
   "execution_count": 116,
   "id": "welsh-stupid",
   "metadata": {
    "execution": {
     "iopub.execute_input": "2021-05-18T17:54:16.995390Z",
     "iopub.status.busy": "2021-05-18T17:54:16.994717Z",
     "iopub.status.idle": "2021-05-18T17:54:16.999234Z",
     "shell.execute_reply": "2021-05-18T17:54:16.998629Z"
    },
    "papermill": {
     "duration": 0.105378,
     "end_time": "2021-05-18T17:54:16.999360",
     "exception": false,
     "start_time": "2021-05-18T17:54:16.893982",
     "status": "completed"
    },
    "tags": []
   },
   "outputs": [
    {
     "data": {
      "text/html": [
       "<div>\n",
       "<style scoped>\n",
       "    .dataframe tbody tr th:only-of-type {\n",
       "        vertical-align: middle;\n",
       "    }\n",
       "\n",
       "    .dataframe tbody tr th {\n",
       "        vertical-align: top;\n",
       "    }\n",
       "\n",
       "    .dataframe thead th {\n",
       "        text-align: right;\n",
       "    }\n",
       "</style>\n",
       "<table border=\"1\" class=\"dataframe\">\n",
       "  <thead>\n",
       "    <tr style=\"text-align: right;\">\n",
       "      <th></th>\n",
       "      <th>Model</th>\n",
       "      <th>Score</th>\n",
       "    </tr>\n",
       "  </thead>\n",
       "  <tbody>\n",
       "    <tr>\n",
       "      <th>3</th>\n",
       "      <td>Random Forest Classifier</td>\n",
       "      <td>0.817164</td>\n",
       "    </tr>\n",
       "    <tr>\n",
       "      <th>0</th>\n",
       "      <td>Logistic Regression</td>\n",
       "      <td>0.805970</td>\n",
       "    </tr>\n",
       "    <tr>\n",
       "      <th>2</th>\n",
       "      <td>Decision Tree Classifier</td>\n",
       "      <td>0.723881</td>\n",
       "    </tr>\n",
       "    <tr>\n",
       "      <th>1</th>\n",
       "      <td>KNN</td>\n",
       "      <td>0.541045</td>\n",
       "    </tr>\n",
       "  </tbody>\n",
       "</table>\n",
       "</div>"
      ],
      "text/plain": [
       "                      Model     Score\n",
       "3  Random Forest Classifier  0.817164\n",
       "0       Logistic Regression  0.805970\n",
       "2  Decision Tree Classifier  0.723881\n",
       "1                       KNN  0.541045"
      ]
     },
     "execution_count": 116,
     "metadata": {},
     "output_type": "execute_result"
    }
   ],
   "source": [
    "models = pd.DataFrame({\n",
    "    'Model' : ['Logistic Regression', 'KNN', 'Decision Tree Classifier', 'Random Forest Classifier'],\n",
    "    'Score' : [lr_acc, knn_acc, dtc_acc, rf_acc]\n",
    "})\n",
    "\n",
    "\n",
    "models.sort_values(by = 'Score', ascending = False)"
   ]
  },
  {
   "cell_type": "code",
   "execution_count": 117,
   "id": "ecological-taiwan",
   "metadata": {
    "execution": {
     "iopub.execute_input": "2021-05-18T17:54:17.191117Z",
     "iopub.status.busy": "2021-05-18T17:54:17.184859Z",
     "iopub.status.idle": "2021-05-18T17:54:17.200115Z",
     "shell.execute_reply": "2021-05-18T17:54:17.200616Z"
    },
    "papermill": {
     "duration": 0.111412,
     "end_time": "2021-05-18T17:54:17.200776",
     "exception": false,
     "start_time": "2021-05-18T17:54:17.089364",
     "status": "completed"
    },
    "tags": []
   },
   "outputs": [
    {
     "data": {
      "text/html": [
       "<div>\n",
       "<style scoped>\n",
       "    .dataframe tbody tr th:only-of-type {\n",
       "        vertical-align: middle;\n",
       "    }\n",
       "\n",
       "    .dataframe tbody tr th {\n",
       "        vertical-align: top;\n",
       "    }\n",
       "\n",
       "    .dataframe thead th {\n",
       "        text-align: right;\n",
       "    }\n",
       "</style>\n",
       "<table border=\"1\" class=\"dataframe\">\n",
       "  <thead>\n",
       "    <tr style=\"text-align: right;\">\n",
       "      <th></th>\n",
       "      <th>PassengerId</th>\n",
       "      <th>Pclass</th>\n",
       "      <th>Sex</th>\n",
       "      <th>Age</th>\n",
       "      <th>SibSp</th>\n",
       "      <th>Parch</th>\n",
       "      <th>Fare</th>\n",
       "      <th>Embarked</th>\n",
       "    </tr>\n",
       "  </thead>\n",
       "  <tbody>\n",
       "    <tr>\n",
       "      <th>0</th>\n",
       "      <td>892</td>\n",
       "      <td>3</td>\n",
       "      <td>1</td>\n",
       "      <td>3.540959</td>\n",
       "      <td>0</td>\n",
       "      <td>0</td>\n",
       "      <td>2.057860</td>\n",
       "      <td>2</td>\n",
       "    </tr>\n",
       "    <tr>\n",
       "      <th>1</th>\n",
       "      <td>893</td>\n",
       "      <td>3</td>\n",
       "      <td>0</td>\n",
       "      <td>3.850148</td>\n",
       "      <td>1</td>\n",
       "      <td>0</td>\n",
       "      <td>1.945910</td>\n",
       "      <td>0</td>\n",
       "    </tr>\n",
       "    <tr>\n",
       "      <th>2</th>\n",
       "      <td>894</td>\n",
       "      <td>2</td>\n",
       "      <td>1</td>\n",
       "      <td>4.127134</td>\n",
       "      <td>0</td>\n",
       "      <td>0</td>\n",
       "      <td>2.270836</td>\n",
       "      <td>2</td>\n",
       "    </tr>\n",
       "    <tr>\n",
       "      <th>3</th>\n",
       "      <td>895</td>\n",
       "      <td>3</td>\n",
       "      <td>1</td>\n",
       "      <td>3.295837</td>\n",
       "      <td>0</td>\n",
       "      <td>0</td>\n",
       "      <td>2.159003</td>\n",
       "      <td>0</td>\n",
       "    </tr>\n",
       "    <tr>\n",
       "      <th>4</th>\n",
       "      <td>896</td>\n",
       "      <td>3</td>\n",
       "      <td>0</td>\n",
       "      <td>3.091042</td>\n",
       "      <td>1</td>\n",
       "      <td>1</td>\n",
       "      <td>2.508582</td>\n",
       "      <td>0</td>\n",
       "    </tr>\n",
       "    <tr>\n",
       "      <th>...</th>\n",
       "      <td>...</td>\n",
       "      <td>...</td>\n",
       "      <td>...</td>\n",
       "      <td>...</td>\n",
       "      <td>...</td>\n",
       "      <td>...</td>\n",
       "      <td>...</td>\n",
       "      <td>...</td>\n",
       "    </tr>\n",
       "    <tr>\n",
       "      <th>413</th>\n",
       "      <td>1305</td>\n",
       "      <td>3</td>\n",
       "      <td>1</td>\n",
       "      <td>3.410243</td>\n",
       "      <td>0</td>\n",
       "      <td>0</td>\n",
       "      <td>2.085672</td>\n",
       "      <td>0</td>\n",
       "    </tr>\n",
       "    <tr>\n",
       "      <th>414</th>\n",
       "      <td>1306</td>\n",
       "      <td>1</td>\n",
       "      <td>0</td>\n",
       "      <td>3.663562</td>\n",
       "      <td>0</td>\n",
       "      <td>0</td>\n",
       "      <td>4.690430</td>\n",
       "      <td>1</td>\n",
       "    </tr>\n",
       "    <tr>\n",
       "      <th>415</th>\n",
       "      <td>1307</td>\n",
       "      <td>3</td>\n",
       "      <td>1</td>\n",
       "      <td>3.650658</td>\n",
       "      <td>0</td>\n",
       "      <td>0</td>\n",
       "      <td>1.981001</td>\n",
       "      <td>0</td>\n",
       "    </tr>\n",
       "    <tr>\n",
       "      <th>416</th>\n",
       "      <td>1308</td>\n",
       "      <td>3</td>\n",
       "      <td>1</td>\n",
       "      <td>3.410243</td>\n",
       "      <td>0</td>\n",
       "      <td>0</td>\n",
       "      <td>2.085672</td>\n",
       "      <td>0</td>\n",
       "    </tr>\n",
       "    <tr>\n",
       "      <th>417</th>\n",
       "      <td>1309</td>\n",
       "      <td>3</td>\n",
       "      <td>1</td>\n",
       "      <td>3.410243</td>\n",
       "      <td>1</td>\n",
       "      <td>1</td>\n",
       "      <td>3.107198</td>\n",
       "      <td>1</td>\n",
       "    </tr>\n",
       "  </tbody>\n",
       "</table>\n",
       "<p>418 rows × 8 columns</p>\n",
       "</div>"
      ],
      "text/plain": [
       "     PassengerId  Pclass  Sex       Age  SibSp  Parch      Fare  Embarked\n",
       "0            892       3    1  3.540959      0      0  2.057860         2\n",
       "1            893       3    0  3.850148      1      0  1.945910         0\n",
       "2            894       2    1  4.127134      0      0  2.270836         2\n",
       "3            895       3    1  3.295837      0      0  2.159003         0\n",
       "4            896       3    0  3.091042      1      1  2.508582         0\n",
       "..           ...     ...  ...       ...    ...    ...       ...       ...\n",
       "413         1305       3    1  3.410243      0      0  2.085672         0\n",
       "414         1306       1    0  3.663562      0      0  4.690430         1\n",
       "415         1307       3    1  3.650658      0      0  1.981001         0\n",
       "416         1308       3    1  3.410243      0      0  2.085672         0\n",
       "417         1309       3    1  3.410243      1      1  3.107198         1\n",
       "\n",
       "[418 rows x 8 columns]"
      ]
     },
     "execution_count": 117,
     "metadata": {},
     "output_type": "execute_result"
    }
   ],
   "source": [
    "test"
   ]
  },
  {
   "cell_type": "markdown",
   "id": "freelance-coordination",
   "metadata": {
    "papermill": {
     "duration": 0.090015,
     "end_time": "2021-05-18T17:54:17.380160",
     "exception": false,
     "start_time": "2021-05-18T17:54:17.290145",
     "status": "completed"
    },
    "tags": []
   },
   "source": [
    "**Since Random Forest gives the best accuracy we will choose Random Forest**"
   ]
  },
  {
   "cell_type": "code",
   "execution_count": 118,
   "id": "miniature-nickel",
   "metadata": {
    "execution": {
     "iopub.execute_input": "2021-05-18T17:54:17.564226Z",
     "iopub.status.busy": "2021-05-18T17:54:17.563619Z",
     "iopub.status.idle": "2021-05-18T17:54:17.590000Z",
     "shell.execute_reply": "2021-05-18T17:54:17.589231Z"
    },
    "papermill": {
     "duration": 0.119271,
     "end_time": "2021-05-18T17:54:17.590178",
     "exception": false,
     "start_time": "2021-05-18T17:54:17.470907",
     "status": "completed"
    },
    "tags": []
   },
   "outputs": [
    {
     "name": "stdout",
     "output_type": "stream",
     "text": [
      "[0 0 0 0 0 0 0 0 1 0 0 0 1 0 1 1 0 0 0 0 1 1 1 0 1 0 1 0 0 0 0 0 0 0 1 0 0\n",
      " 0 0 0 0 0 0 1 1 0 1 0 1 0 0 0 1 1 0 0 0 0 0 1 0 0 0 1 1 1 1 0 1 1 1 0 0 1\n",
      " 1 1 0 1 0 1 1 0 1 0 0 0 1 0 0 1 0 0 1 0 1 0 1 0 0 0 1 0 0 0 1 0 0 0 0 0 0\n",
      " 0 1 0 1 0 0 1 0 1 1 0 1 0 0 1 0 1 0 0 0 1 0 0 0 0 0 0 0 0 0 1 0 0 1 0 0 0\n",
      " 0 0 1 0 0 0 0 0 1 0 1 0 0 1 1 0 0 0 0 0 1 0 0 0 0 0 0 1 1 1 1 1 0 1 1 0 1\n",
      " 0 1 0 0 0 0 0 1 0 1 0 1 0 0 0 0 1 1 1 0 0 0 0 1 0 0 0 0 1 0 0 0 0 1 0 1 0\n",
      " 1 0 1 1 0 0 0 0 0 1 0 0 1 0 0 0 1 1 1 1 1 0 0 0 1 0 1 0 1 0 1 0 0 0 0 0 1\n",
      " 0 0 0 1 1 0 0 0 0 0 0 0 0 1 0 0 1 0 0 0 0 0 1 0 0 0 0 0 0 0 0 0 0 0 0 0 0\n",
      " 1 0 0 0 0 0 0 0 0 1 0 1 0 0 0 0 0 0 1 1 0 0 0 0 0 0 0 1 1 0 1 0 0 0 1 1 0\n",
      " 0 0 0 0 0 0 0 0 0 0 1 0 0 0 0 0 1 1 0 0 0 1 1 1 0 0 0 0 1 1 0 1 0 0 0 1 1\n",
      " 0 1 0 0 1 1 0 0 0 0 0 0 0 0 0 1 0 0 0 0 0 1 0 0 0 1 0 1 0 0 1 0 1 0 1 0 0\n",
      " 0 0 1 0 1 0 0 1 0 0 0]\n"
     ]
    }
   ],
   "source": [
    "predict1 = rf.predict(test)\n",
    "print(predict1)"
   ]
  },
  {
   "cell_type": "code",
   "execution_count": 119,
   "id": "vocal-picnic",
   "metadata": {
    "execution": {
     "iopub.execute_input": "2021-05-18T17:54:17.778088Z",
     "iopub.status.busy": "2021-05-18T17:54:17.776984Z",
     "iopub.status.idle": "2021-05-18T17:54:17.780755Z",
     "shell.execute_reply": "2021-05-18T17:54:17.781385Z"
    },
    "papermill": {
     "duration": 0.099951,
     "end_time": "2021-05-18T17:54:17.781549",
     "exception": false,
     "start_time": "2021-05-18T17:54:17.681598",
     "status": "completed"
    },
    "tags": []
   },
   "outputs": [
    {
     "data": {
      "text/plain": [
       "418"
      ]
     },
     "execution_count": 119,
     "metadata": {},
     "output_type": "execute_result"
    }
   ],
   "source": [
    "list1 = np.array(predict1).tolist()\n",
    "len(list1)"
   ]
  },
  {
   "cell_type": "code",
   "execution_count": 120,
   "id": "wireless-sydney",
   "metadata": {
    "execution": {
     "iopub.execute_input": "2021-05-18T17:54:17.970926Z",
     "iopub.status.busy": "2021-05-18T17:54:17.969889Z",
     "iopub.status.idle": "2021-05-18T17:54:17.975010Z",
     "shell.execute_reply": "2021-05-18T17:54:17.975573Z"
    },
    "papermill": {
     "duration": 0.100981,
     "end_time": "2021-05-18T17:54:17.975728",
     "exception": false,
     "start_time": "2021-05-18T17:54:17.874747",
     "status": "completed"
    },
    "tags": []
   },
   "outputs": [],
   "source": [
    "test.insert(7,column=\"Survived\",value=list1)"
   ]
  },
  {
   "cell_type": "code",
   "execution_count": 121,
   "id": "immune-diabetes",
   "metadata": {
    "execution": {
     "iopub.execute_input": "2021-05-18T17:54:18.163695Z",
     "iopub.status.busy": "2021-05-18T17:54:18.162773Z",
     "iopub.status.idle": "2021-05-18T17:54:18.175226Z",
     "shell.execute_reply": "2021-05-18T17:54:18.175732Z"
    },
    "papermill": {
     "duration": 0.108229,
     "end_time": "2021-05-18T17:54:18.175908",
     "exception": false,
     "start_time": "2021-05-18T17:54:18.067679",
     "status": "completed"
    },
    "tags": []
   },
   "outputs": [
    {
     "data": {
      "text/html": [
       "<div>\n",
       "<style scoped>\n",
       "    .dataframe tbody tr th:only-of-type {\n",
       "        vertical-align: middle;\n",
       "    }\n",
       "\n",
       "    .dataframe tbody tr th {\n",
       "        vertical-align: top;\n",
       "    }\n",
       "\n",
       "    .dataframe thead th {\n",
       "        text-align: right;\n",
       "    }\n",
       "</style>\n",
       "<table border=\"1\" class=\"dataframe\">\n",
       "  <thead>\n",
       "    <tr style=\"text-align: right;\">\n",
       "      <th></th>\n",
       "      <th>PassengerId</th>\n",
       "      <th>Pclass</th>\n",
       "      <th>Sex</th>\n",
       "      <th>Age</th>\n",
       "      <th>SibSp</th>\n",
       "      <th>Parch</th>\n",
       "      <th>Fare</th>\n",
       "      <th>Survived</th>\n",
       "      <th>Embarked</th>\n",
       "    </tr>\n",
       "  </thead>\n",
       "  <tbody>\n",
       "    <tr>\n",
       "      <th>0</th>\n",
       "      <td>892</td>\n",
       "      <td>3</td>\n",
       "      <td>1</td>\n",
       "      <td>3.540959</td>\n",
       "      <td>0</td>\n",
       "      <td>0</td>\n",
       "      <td>2.057860</td>\n",
       "      <td>0</td>\n",
       "      <td>2</td>\n",
       "    </tr>\n",
       "    <tr>\n",
       "      <th>1</th>\n",
       "      <td>893</td>\n",
       "      <td>3</td>\n",
       "      <td>0</td>\n",
       "      <td>3.850148</td>\n",
       "      <td>1</td>\n",
       "      <td>0</td>\n",
       "      <td>1.945910</td>\n",
       "      <td>0</td>\n",
       "      <td>0</td>\n",
       "    </tr>\n",
       "    <tr>\n",
       "      <th>2</th>\n",
       "      <td>894</td>\n",
       "      <td>2</td>\n",
       "      <td>1</td>\n",
       "      <td>4.127134</td>\n",
       "      <td>0</td>\n",
       "      <td>0</td>\n",
       "      <td>2.270836</td>\n",
       "      <td>0</td>\n",
       "      <td>2</td>\n",
       "    </tr>\n",
       "    <tr>\n",
       "      <th>3</th>\n",
       "      <td>895</td>\n",
       "      <td>3</td>\n",
       "      <td>1</td>\n",
       "      <td>3.295837</td>\n",
       "      <td>0</td>\n",
       "      <td>0</td>\n",
       "      <td>2.159003</td>\n",
       "      <td>0</td>\n",
       "      <td>0</td>\n",
       "    </tr>\n",
       "    <tr>\n",
       "      <th>4</th>\n",
       "      <td>896</td>\n",
       "      <td>3</td>\n",
       "      <td>0</td>\n",
       "      <td>3.091042</td>\n",
       "      <td>1</td>\n",
       "      <td>1</td>\n",
       "      <td>2.508582</td>\n",
       "      <td>0</td>\n",
       "      <td>0</td>\n",
       "    </tr>\n",
       "  </tbody>\n",
       "</table>\n",
       "</div>"
      ],
      "text/plain": [
       "   PassengerId  Pclass  Sex       Age  SibSp  Parch      Fare  Survived  \\\n",
       "0          892       3    1  3.540959      0      0  2.057860         0   \n",
       "1          893       3    0  3.850148      1      0  1.945910         0   \n",
       "2          894       2    1  4.127134      0      0  2.270836         0   \n",
       "3          895       3    1  3.295837      0      0  2.159003         0   \n",
       "4          896       3    0  3.091042      1      1  2.508582         0   \n",
       "\n",
       "   Embarked  \n",
       "0         2  \n",
       "1         0  \n",
       "2         2  \n",
       "3         0  \n",
       "4         0  "
      ]
     },
     "execution_count": 121,
     "metadata": {},
     "output_type": "execute_result"
    }
   ],
   "source": [
    "test.head()"
   ]
  },
  {
   "cell_type": "markdown",
   "id": "pointed-location",
   "metadata": {
    "papermill": {
     "duration": 0.091228,
     "end_time": "2021-05-18T17:54:18.358778",
     "exception": false,
     "start_time": "2021-05-18T17:54:18.267550",
     "status": "completed"
    },
    "tags": []
   },
   "source": [
    "Making the submission csv"
   ]
  },
  {
   "cell_type": "code",
   "execution_count": 122,
   "id": "cultural-converter",
   "metadata": {
    "execution": {
     "iopub.execute_input": "2021-05-18T17:54:18.545515Z",
     "iopub.status.busy": "2021-05-18T17:54:18.544577Z",
     "iopub.status.idle": "2021-05-18T17:54:18.555442Z",
     "shell.execute_reply": "2021-05-18T17:54:18.554936Z"
    },
    "papermill": {
     "duration": 0.10498,
     "end_time": "2021-05-18T17:54:18.555569",
     "exception": false,
     "start_time": "2021-05-18T17:54:18.450589",
     "status": "completed"
    },
    "tags": []
   },
   "outputs": [
    {
     "data": {
      "text/html": [
       "<div>\n",
       "<style scoped>\n",
       "    .dataframe tbody tr th:only-of-type {\n",
       "        vertical-align: middle;\n",
       "    }\n",
       "\n",
       "    .dataframe tbody tr th {\n",
       "        vertical-align: top;\n",
       "    }\n",
       "\n",
       "    .dataframe thead th {\n",
       "        text-align: right;\n",
       "    }\n",
       "</style>\n",
       "<table border=\"1\" class=\"dataframe\">\n",
       "  <thead>\n",
       "    <tr style=\"text-align: right;\">\n",
       "      <th></th>\n",
       "      <th>PassengerId</th>\n",
       "      <th>Survived</th>\n",
       "    </tr>\n",
       "  </thead>\n",
       "  <tbody>\n",
       "    <tr>\n",
       "      <th>0</th>\n",
       "      <td>892</td>\n",
       "      <td>0</td>\n",
       "    </tr>\n",
       "    <tr>\n",
       "      <th>1</th>\n",
       "      <td>893</td>\n",
       "      <td>0</td>\n",
       "    </tr>\n",
       "    <tr>\n",
       "      <th>2</th>\n",
       "      <td>894</td>\n",
       "      <td>0</td>\n",
       "    </tr>\n",
       "    <tr>\n",
       "      <th>3</th>\n",
       "      <td>895</td>\n",
       "      <td>0</td>\n",
       "    </tr>\n",
       "    <tr>\n",
       "      <th>4</th>\n",
       "      <td>896</td>\n",
       "      <td>0</td>\n",
       "    </tr>\n",
       "  </tbody>\n",
       "</table>\n",
       "</div>"
      ],
      "text/plain": [
       "   PassengerId  Survived\n",
       "0          892         0\n",
       "1          893         0\n",
       "2          894         0\n",
       "3          895         0\n",
       "4          896         0"
      ]
     },
     "execution_count": 122,
     "metadata": {},
     "output_type": "execute_result"
    }
   ],
   "source": [
    "Submission = test.drop(['Pclass','Sex','Age','SibSp','Parch','Fare','Embarked'],axis=1)\n",
    "Submission.head()"
   ]
  },
  {
   "cell_type": "code",
   "execution_count": 123,
   "id": "distinct-latvia",
   "metadata": {
    "execution": {
     "iopub.execute_input": "2021-05-18T17:54:18.773610Z",
     "iopub.status.busy": "2021-05-18T17:54:18.772741Z",
     "iopub.status.idle": "2021-05-18T17:54:18.776185Z",
     "shell.execute_reply": "2021-05-18T17:54:18.776697Z"
    },
    "papermill": {
     "duration": 0.113618,
     "end_time": "2021-05-18T17:54:18.776868",
     "exception": false,
     "start_time": "2021-05-18T17:54:18.663250",
     "status": "completed"
    },
    "tags": []
   },
   "outputs": [
    {
     "data": {
      "text/html": [
       "<div>\n",
       "<style scoped>\n",
       "    .dataframe tbody tr th:only-of-type {\n",
       "        vertical-align: middle;\n",
       "    }\n",
       "\n",
       "    .dataframe tbody tr th {\n",
       "        vertical-align: top;\n",
       "    }\n",
       "\n",
       "    .dataframe thead th {\n",
       "        text-align: right;\n",
       "    }\n",
       "</style>\n",
       "<table border=\"1\" class=\"dataframe\">\n",
       "  <thead>\n",
       "    <tr style=\"text-align: right;\">\n",
       "      <th></th>\n",
       "      <th>PassengerId</th>\n",
       "      <th>Survived</th>\n",
       "    </tr>\n",
       "  </thead>\n",
       "  <tbody>\n",
       "    <tr>\n",
       "      <th>0</th>\n",
       "      <td>892</td>\n",
       "      <td>0</td>\n",
       "    </tr>\n",
       "    <tr>\n",
       "      <th>1</th>\n",
       "      <td>893</td>\n",
       "      <td>0</td>\n",
       "    </tr>\n",
       "    <tr>\n",
       "      <th>2</th>\n",
       "      <td>894</td>\n",
       "      <td>0</td>\n",
       "    </tr>\n",
       "    <tr>\n",
       "      <th>3</th>\n",
       "      <td>895</td>\n",
       "      <td>0</td>\n",
       "    </tr>\n",
       "    <tr>\n",
       "      <th>4</th>\n",
       "      <td>896</td>\n",
       "      <td>0</td>\n",
       "    </tr>\n",
       "    <tr>\n",
       "      <th>...</th>\n",
       "      <td>...</td>\n",
       "      <td>...</td>\n",
       "    </tr>\n",
       "    <tr>\n",
       "      <th>413</th>\n",
       "      <td>1305</td>\n",
       "      <td>0</td>\n",
       "    </tr>\n",
       "    <tr>\n",
       "      <th>414</th>\n",
       "      <td>1306</td>\n",
       "      <td>1</td>\n",
       "    </tr>\n",
       "    <tr>\n",
       "      <th>415</th>\n",
       "      <td>1307</td>\n",
       "      <td>0</td>\n",
       "    </tr>\n",
       "    <tr>\n",
       "      <th>416</th>\n",
       "      <td>1308</td>\n",
       "      <td>0</td>\n",
       "    </tr>\n",
       "    <tr>\n",
       "      <th>417</th>\n",
       "      <td>1309</td>\n",
       "      <td>0</td>\n",
       "    </tr>\n",
       "  </tbody>\n",
       "</table>\n",
       "<p>418 rows × 2 columns</p>\n",
       "</div>"
      ],
      "text/plain": [
       "     PassengerId  Survived\n",
       "0            892         0\n",
       "1            893         0\n",
       "2            894         0\n",
       "3            895         0\n",
       "4            896         0\n",
       "..           ...       ...\n",
       "413         1305         0\n",
       "414         1306         1\n",
       "415         1307         0\n",
       "416         1308         0\n",
       "417         1309         0\n",
       "\n",
       "[418 rows x 2 columns]"
      ]
     },
     "execution_count": 123,
     "metadata": {},
     "output_type": "execute_result"
    }
   ],
   "source": [
    "Submission"
   ]
  },
  {
   "cell_type": "code",
   "execution_count": 124,
   "id": "normal-teacher",
   "metadata": {
    "execution": {
     "iopub.execute_input": "2021-05-18T17:54:18.967050Z",
     "iopub.status.busy": "2021-05-18T17:54:18.966409Z",
     "iopub.status.idle": "2021-05-18T17:54:18.974950Z",
     "shell.execute_reply": "2021-05-18T17:54:18.974422Z"
    },
    "papermill": {
     "duration": 0.105417,
     "end_time": "2021-05-18T17:54:18.975090",
     "exception": false,
     "start_time": "2021-05-18T17:54:18.869673",
     "status": "completed"
    },
    "tags": []
   },
   "outputs": [],
   "source": [
    "Submission.to_csv('Submission.csv',index=False)"
   ]
  }
 ],
 "metadata": {
  "kernelspec": {
   "display_name": "Python 3",
   "language": "python",
   "name": "python3"
  },
  "language_info": {
   "codemirror_mode": {
    "name": "ipython",
    "version": 3
   },
   "file_extension": ".py",
   "mimetype": "text/x-python",
   "name": "python",
   "nbconvert_exporter": "python",
   "pygments_lexer": "ipython3",
   "version": "3.8.3"
  },
  "papermill": {
   "default_parameters": {},
   "duration": 33.740979,
   "end_time": "2021-05-18T17:54:19.968575",
   "environment_variables": {},
   "exception": null,
   "input_path": "__notebook__.ipynb",
   "output_path": "__notebook__.ipynb",
   "parameters": {},
   "start_time": "2021-05-18T17:53:46.227596",
   "version": "2.3.3"
  }
 },
 "nbformat": 4,
 "nbformat_minor": 5
}
